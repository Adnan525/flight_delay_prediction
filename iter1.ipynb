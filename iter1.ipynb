{
 "cells": [
  {
   "cell_type": "markdown",
   "metadata": {},
   "source": [
    "# Problem: Predicting Airplane Delays\n",
    "\n",
    "The goals of this notebook are:\n",
    "- Process and create a dataset from downloaded ZIP files\n",
    "- Exploratory data analysis (EDA)\n",
    "- Establish a baseline model and improve it\n",
    "\n",
    "## Introduction to business scenario\n",
    "You work for a travel booking website that is working to improve the customer experience for flights that were delayed. The company wants to create a feature to let customers know if the flight will be delayed due to weather when the customers are booking the flight to or from the busiest airports for domestic travel in the US. \n",
    "\n",
    "You are tasked with solving part of this problem by leveraging machine learning to identify whether the flight will be delayed due to weather. You have been given access to the a dataset of on-time performance of domestic flights operated by large air carriers. You can use this data to train a machine learning model to predict if the flight is going to be delayed for the busiest airports.\n",
    "\n",
    "### Dataset\n",
    "The provided dataset contains scheduled and actual departure and arrival times reported by certified US air carriers that account for at least 1 percent of domestic scheduled passenger revenues. The data was collected by the Office of Airline Information, Bureau of Transportation Statistics (BTS). The dataset contains date, time, origin, destination, airline, distance, and delay status of flights for flights between 2014 and 2018.\n",
    "The data are in 60 compressed files, where each file contains a CSV for the flight details in a month for the five years (from 2014 - 2018). The data can be downloaded from this link: [https://ucstaff-my.sharepoint.com/:f:/g/personal/ibrahim_radwan_canberra_edu_au/Er0nVreXmihEmtMz5qC5kVIB81-ugSusExPYdcyQTglfLg?e=bNO312]. Please download the data files and place them on a relative path. Dataset(s) used in this assignment were compiled by the Office of Airline Information, Bureau of Transportation Statistics (BTS), Airline On-Time Performance Data, available with the following link: [https://www.transtats.bts.gov/Fields.asp?gnoyr_VQ=FGJ]. "
   ]
  },
  {
   "cell_type": "markdown",
   "metadata": {},
   "source": [
    "# Step 1: Prepare the environment \n",
    "\n",
    "Use one of the labs which we have practised on with the Amazon Sagemakers where you perform the following steps:\n",
    "1. Start a lab.\n",
    "2. Create a notebook instance and name it \"oncloudproject\".\n",
    "3. Increase the used memory to 25 GB from the additional configurations.\n",
    "4. Open Jupyter Lab and upload this notebook into it.\n",
    "5. Upload the two combined CVS files (combined_csv_v1.csv and combined_csv_v2.csv), which you created in Part A of this project."
   ]
  },
  {
   "cell_type": "markdown",
   "metadata": {},
   "source": [
    "# Step 2: Build and evaluate simple models\n",
    "\n",
    "Write code to perform the follwoing steps:\n",
    "1. Split data into training, validation and testing sets (70% - 15% - 15%).\n",
    "2. Use linear learner estimator to build a classifcation model.\n",
    "3. Host the model on another instance\n",
    "4. Perform batch transform to evaluate the model on testing data\n",
    "5. Report the performance metrics that you see better test the model performance \n",
    "\n",
    "Note: You are required to perform the above steps on the two combined datasets separatey and to comments on the difference."
   ]
  },
  {
   "cell_type": "markdown",
   "metadata": {
    "tags": []
   },
   "source": [
    "## CSV 1"
   ]
  },
  {
   "cell_type": "code",
   "execution_count": 47,
   "metadata": {
    "tags": []
   },
   "outputs": [],
   "source": [
    "# Write the code here and add cells as you need\n",
    "import numpy as np\n",
    "import pandas as pd\n",
    "import zipfile"
   ]
  },
  {
   "cell_type": "code",
   "execution_count": 48,
   "metadata": {
    "tags": []
   },
   "outputs": [],
   "source": [
    "import zipfile\n",
    "import pandas as pd\n",
    "import os\n",
    "\n",
    "# The uploaded zip file name\n",
    "zip_file_name = 'comb.zip'\n",
    "\n",
    "# The expected csv file name inside the zip\n",
    "# You may need to adjust this if the CSV file has a different name\n",
    "csv_file_name = 'combined_csv_v1.csv'\n",
    "\n",
    "# The directory to extract the files to (it will be created if it doesn't exist)\n",
    "extract_dir = 'extracted_files'\n",
    "\n",
    "# Ensure the directory exists\n",
    "if not os.path.exists(extract_dir):\n",
    "    os.makedirs(extract_dir)\n",
    "\n",
    "# Unzip the file and extract its contents\n",
    "with zipfile.ZipFile(zip_file_name, 'r') as zip_ref:\n",
    "    zip_ref.extractall(extract_dir)\n",
    "\n",
    "# Construct the path to the CSV file\n",
    "csv_file_path = os.path.join(extract_dir, csv_file_name)\n",
    "\n",
    "# Now, you can read the CSV file using pandas\n",
    "data = pd.read_csv(csv_file_path, , nrows = 1000000)\n",
    "data.head()"
   ]
  },
  {
   "cell_type": "code",
   "execution_count": 50,
   "metadata": {
    "tags": []
   },
   "outputs": [],
   "source": [
    "# Split the data into 70% train, 15% validation, and 15% test\n",
    "train_frac = 0.70\n",
    "val_frac = 0.15 / (1 - train_frac)  # Calculate fraction of remaining data\n",
    "\n",
    "# Splitting the datasets\n",
    "training_dataset = data.sample(frac=train_frac, random_state=59)\n",
    "remaining_dataset = data.loc[~data.index.isin(training_dataset.index), :]\n",
    "\n",
    "validation_dataset = remaining_dataset.sample(frac=val_frac, random_state=59)\n",
    "testing_dataset = remaining_dataset.loc[~remaining_dataset.index.isin(validation_dataset.index), :]\n"
   ]
  },
  {
   "cell_type": "code",
   "execution_count": 51,
   "metadata": {
    "tags": []
   },
   "outputs": [
    {
     "name": "stdout",
     "output_type": "stream",
     "text": [
      "(1000000, 72)\n",
      "(700000, 72)\n",
      "(150000, 72)\n",
      "(150000, 72)\n"
     ]
    }
   ],
   "source": [
    "print(data.shape)\n",
    "print(training_dataset.shape)\n",
    "print(validation_dataset.shape)\n",
    "print(testing_dataset.shape)"
   ]
  },
  {
   "cell_type": "code",
   "execution_count": 52,
   "metadata": {
    "tags": []
   },
   "outputs": [],
   "source": [
    "# # Writing files to a file for S3 later\n",
    "# training_dataset.to_csv('training_dataset.csv', index=False, header=False)\n",
    "# testing_dataset.to_csv('testing_dataset.csv',index=False, header=False)\n",
    "# validation_dataset.to_csv('validation_dataset.csv', index=False, header=False)"
   ]
  },
  {
   "cell_type": "code",
   "execution_count": 53,
   "metadata": {
    "tags": []
   },
   "outputs": [
    {
     "name": "stdout",
     "output_type": "stream",
     "text": [
      "sagemaker.config INFO - Not applying SDK defaults from location: /etc/xdg/sagemaker/config.yaml\n",
      "sagemaker.config INFO - Not applying SDK defaults from location: /home/ec2-user/.config/sagemaker/config.yaml\n"
     ]
    },
    {
     "name": "stderr",
     "output_type": "stream",
     "text": [
      "WARNING:sagemaker.deprecations:The method get_image_uri has been renamed in sagemaker>=2.\n",
      "See: https://sagemaker.readthedocs.io/en/stable/v2.html for details.\n",
      "INFO:sagemaker.image_uris:Same images used for training and inference. Defaulting to image scope: inference.\n",
      "INFO:sagemaker.image_uris:Ignoring unnecessary instance type: None.\n"
     ]
    }
   ],
   "source": [
    "import sagemaker\n",
    "import boto3\n",
    "from sagemaker import TrainingInput\n",
    "from sagemaker.amazon.amazon_estimator import get_image_uri\n",
    "from sagemaker.estimator import Estimator\n",
    "import pandas as pd\n",
    "from sklearn.model_selection import train_test_split\n",
    "import io\n",
    "# Intitialising sagemaker\n",
    "# SageMaker session and default S3 bucket\n",
    "session = sagemaker.Session()\n",
    "default_bucket = session.default_bucket()\n",
    "data_prefix = 'model-data'\n",
    "\n",
    "# Define AWS region and container for Linear Learner\n",
    "aws_region = boto3.Session().region_name\n",
    "linear_container = get_image_uri(aws_region, 'linear-learner')\n"
   ]
  },
  {
   "cell_type": "code",
   "execution_count": 54,
   "metadata": {
    "tags": []
   },
   "outputs": [],
   "source": [
    "# Pre-processing and uloading to S3\n",
    "# Splitting and saving data\n",
    "def process_and_upload_data(dataframe, file_name, s3_prefix):\n",
    "    dataframe.to_csv(file_name, header=False, index=False)\n",
    "    return session.upload_data(file_name, key_prefix=s3_prefix)\n",
    "\n",
    "train_path = process_and_upload_data(training_dataset, 'training_data.csv', f\"{data_prefix}/train\")\n",
    "valid_path = process_and_upload_data(validation_dataset, 'validation_data.csv', f\"{data_prefix}/valid\")\n",
    "test_path = process_and_upload_data(testing_dataset, 'testing_data.csv', f\"{data_prefix}/test\")\n"
   ]
  },
  {
   "cell_type": "code",
   "execution_count": 55,
   "metadata": {
    "tags": []
   },
   "outputs": [
    {
     "name": "stdout",
     "output_type": "stream",
     "text": [
      "sagemaker.config INFO - Not applying SDK defaults from location: /etc/xdg/sagemaker/config.yaml\n",
      "sagemaker.config INFO - Not applying SDK defaults from location: /home/ec2-user/.config/sagemaker/config.yaml\n",
      "sagemaker.config INFO - Not applying SDK defaults from location: /etc/xdg/sagemaker/config.yaml\n",
      "sagemaker.config INFO - Not applying SDK defaults from location: /home/ec2-user/.config/sagemaker/config.yaml\n"
     ]
    },
    {
     "name": "stderr",
     "output_type": "stream",
     "text": [
      "INFO:sagemaker:Creating training-job with name: linear-learner-2023-10-31-20-26-34-831\n"
     ]
    },
    {
     "name": "stdout",
     "output_type": "stream",
     "text": [
      "2023-10-31 20:26:35 Starting - Starting the training job...\n",
      "2023-10-31 20:26:50 Starting - Preparing the instances for training......\n",
      "2023-10-31 20:27:59 Downloading - Downloading input data......\n",
      "2023-10-31 20:28:49 Training - Downloading the training image......\n",
      "2023-10-31 20:29:55 Training - Training image download completed. Training in progress..\u001b[34mDocker entrypoint called with argument(s): train\u001b[0m\n",
      "\u001b[34mRunning default environment configuration script\u001b[0m\n",
      "\u001b[34m[10/31/2023 20:30:00 INFO 139963066464064] Reading default configuration from /opt/amazon/lib/python3.8/site-packages/algorithm/resources/default-input.json: {'mini_batch_size': '1000', 'epochs': '15', 'feature_dim': 'auto', 'use_bias': 'true', 'binary_classifier_model_selection_criteria': 'accuracy', 'f_beta': '1.0', 'target_recall': '0.8', 'target_precision': '0.8', 'num_models': 'auto', 'num_calibration_samples': '10000000', 'init_method': 'uniform', 'init_scale': '0.07', 'init_sigma': '0.01', 'init_bias': '0.0', 'optimizer': 'auto', 'loss': 'auto', 'margin': '1.0', 'quantile': '0.5', 'loss_insensitivity': '0.01', 'huber_delta': '1.0', 'num_classes': '1', 'accuracy_top_k': '3', 'wd': 'auto', 'l1': 'auto', 'momentum': 'auto', 'learning_rate': 'auto', 'beta_1': 'auto', 'beta_2': 'auto', 'bias_lr_mult': 'auto', 'bias_wd_mult': 'auto', 'use_lr_scheduler': 'true', 'lr_scheduler_step': 'auto', 'lr_scheduler_factor': 'auto', 'lr_scheduler_minimum_lr': 'auto', 'positive_example_weight_mult': '1.0', 'balance_multiclass_weights': 'false', 'normalize_data': 'true', 'normalize_label': 'auto', 'unbias_data': 'auto', 'unbias_label': 'auto', 'num_point_for_scaler': '10000', '_kvstore': 'auto', '_num_gpus': 'auto', '_num_kv_servers': 'auto', '_log_level': 'info', '_tuning_objective_metric': '', 'early_stopping_patience': '3', 'early_stopping_tolerance': '0.001', '_enable_profiler': 'false'}\u001b[0m\n",
      "\u001b[34m[10/31/2023 20:30:00 INFO 139963066464064] Merging with provided configuration from /opt/ml/input/config/hyperparameters.json: {'epochs': '3', 'mini_batch_size': '1000', 'predictor_type': 'binary_classifier'}\u001b[0m\n",
      "\u001b[34m[10/31/2023 20:30:00 INFO 139963066464064] Final configuration: {'mini_batch_size': '1000', 'epochs': '3', 'feature_dim': 'auto', 'use_bias': 'true', 'binary_classifier_model_selection_criteria': 'accuracy', 'f_beta': '1.0', 'target_recall': '0.8', 'target_precision': '0.8', 'num_models': 'auto', 'num_calibration_samples': '10000000', 'init_method': 'uniform', 'init_scale': '0.07', 'init_sigma': '0.01', 'init_bias': '0.0', 'optimizer': 'auto', 'loss': 'auto', 'margin': '1.0', 'quantile': '0.5', 'loss_insensitivity': '0.01', 'huber_delta': '1.0', 'num_classes': '1', 'accuracy_top_k': '3', 'wd': 'auto', 'l1': 'auto', 'momentum': 'auto', 'learning_rate': 'auto', 'beta_1': 'auto', 'beta_2': 'auto', 'bias_lr_mult': 'auto', 'bias_wd_mult': 'auto', 'use_lr_scheduler': 'true', 'lr_scheduler_step': 'auto', 'lr_scheduler_factor': 'auto', 'lr_scheduler_minimum_lr': 'auto', 'positive_example_weight_mult': '1.0', 'balance_multiclass_weights': 'false', 'normalize_data': 'true', 'normalize_label': 'auto', 'unbias_data': 'auto', 'unbias_label': 'auto', 'num_point_for_scaler': '10000', '_kvstore': 'auto', '_num_gpus': 'auto', '_num_kv_servers': 'auto', '_log_level': 'info', '_tuning_objective_metric': '', 'early_stopping_patience': '3', 'early_stopping_tolerance': '0.001', '_enable_profiler': 'false', 'predictor_type': 'binary_classifier'}\u001b[0m\n",
      "\u001b[34m/opt/amazon/lib/python3.8/site-packages/mxnet/model.py:97: SyntaxWarning: \"is\" with a literal. Did you mean \"==\"?\n",
      "  if num_device is 1 and 'dist' not in kvstore:\u001b[0m\n",
      "\u001b[34m/opt/amazon/lib/python3.8/site-packages/scipy/optimize/_shgo.py:495: SyntaxWarning: \"is\" with a literal. Did you mean \"==\"?\n",
      "  if cons['type'] is 'ineq':\u001b[0m\n",
      "\u001b[34m/opt/amazon/lib/python3.8/site-packages/scipy/optimize/_shgo.py:743: SyntaxWarning: \"is not\" with a literal. Did you mean \"!=\"?\n",
      "  if len(self.X_min) is not 0:\u001b[0m\n",
      "\u001b[34m[10/31/2023 20:30:04 WARNING 139963066464064] Loggers have already been setup.\u001b[0m\n",
      "\u001b[34m[10/31/2023 20:30:04 INFO 139963066464064] Final configuration: {'mini_batch_size': '1000', 'epochs': '3', 'feature_dim': 'auto', 'use_bias': 'true', 'binary_classifier_model_selection_criteria': 'accuracy', 'f_beta': '1.0', 'target_recall': '0.8', 'target_precision': '0.8', 'num_models': 'auto', 'num_calibration_samples': '10000000', 'init_method': 'uniform', 'init_scale': '0.07', 'init_sigma': '0.01', 'init_bias': '0.0', 'optimizer': 'auto', 'loss': 'auto', 'margin': '1.0', 'quantile': '0.5', 'loss_insensitivity': '0.01', 'huber_delta': '1.0', 'num_classes': '1', 'accuracy_top_k': '3', 'wd': 'auto', 'l1': 'auto', 'momentum': 'auto', 'learning_rate': 'auto', 'beta_1': 'auto', 'beta_2': 'auto', 'bias_lr_mult': 'auto', 'bias_wd_mult': 'auto', 'use_lr_scheduler': 'true', 'lr_scheduler_step': 'auto', 'lr_scheduler_factor': 'auto', 'lr_scheduler_minimum_lr': 'auto', 'positive_example_weight_mult': '1.0', 'balance_multiclass_weights': 'false', 'normalize_data': 'true', 'normalize_label': 'auto', 'unbias_data': 'auto', 'unbias_label': 'auto', 'num_point_for_scaler': '10000', '_kvstore': 'auto', '_num_gpus': 'auto', '_num_kv_servers': 'auto', '_log_level': 'info', '_tuning_objective_metric': '', 'early_stopping_patience': '3', 'early_stopping_tolerance': '0.001', '_enable_profiler': 'false', 'predictor_type': 'binary_classifier'}\u001b[0m\n",
      "\u001b[34m[10/31/2023 20:30:04 WARNING 139963066464064] Loggers have already been setup.\u001b[0m\n",
      "\u001b[34mProcess 8 is a worker.\u001b[0m\n",
      "\u001b[34m[10/31/2023 20:30:04 INFO 139963066464064] Using default worker.\u001b[0m\n",
      "\u001b[34m[10/31/2023 20:30:04 INFO 139963066464064] Checkpoint loading and saving are disabled.\u001b[0m\n",
      "\u001b[34m[10/31/2023 20:30:04 INFO 139963066464064] Create Store: local\u001b[0m\n",
      "\u001b[34m[10/31/2023 20:30:05 INFO 139963066464064] Scaler algorithm parameters\n",
      " <algorithm.scaler.ScalerAlgorithmStable object at 0x7f4b297b67c0>\u001b[0m\n",
      "\u001b[34m[10/31/2023 20:30:05 INFO 139963066464064] Scaling model computed with parameters:\n",
      " {'stdev_label': None, 'stdev_weight': \u001b[0m\n",
      "\u001b[34m[5.3709589e+02 4.6098259e-01 3.5742751e-01 4.2933008e-01 2.8670201e-01\n",
      " 3.1083915e-01 3.0760476e-01 2.8902599e-01 3.1106809e-01 2.9195517e-01\n",
      " 1.6882363e-01 1.6181777e-01 2.7752411e-01 2.7477983e-01 2.6716757e-01\n",
      " 1.9009417e-01 1.7792189e-01 1.7982028e-01 1.7356345e-01 1.8239361e-01\n",
      " 1.7863652e-01 1.6575098e-01 1.7696396e-01 1.7958425e-01 1.7454271e-01\n",
      " 1.8052630e-01 1.7982030e-01 1.8076093e-01 1.7934786e-01 1.7503002e-01\n",
      " 1.8876179e-01 1.7720398e-01 1.8285702e-01 1.7405386e-01 1.7008545e-01\n",
      " 1.8076093e-01 1.6882363e-01 1.8331906e-01 1.8122916e-01 1.7648274e-01\n",
      " 1.7792189e-01 1.7744365e-01 1.7454271e-01 1.6882361e-01 1.3458817e-01\n",
      " 3.4858331e-01 3.4783393e-01 3.5572967e-01 3.5910898e-01 3.3123362e-01\n",
      " 3.4528124e-01 3.6828396e-01 2.3528409e-01 4.6036893e-01 3.1469423e-01\n",
      " 2.3647347e-01 3.1913161e-01 3.2474881e-01 2.7546954e-01 3.5546002e-01\n",
      " 3.4423086e-01 3.0144906e-01 3.2196113e-01 2.3494284e-01 3.1670389e-01\n",
      " 3.3720142e-01 2.7560723e-01 3.5155007e-01 3.3789682e-01 3.0431479e-01\n",
      " 3.2791474e-01]\u001b[0m\n",
      "\u001b[34m<NDArray 71 @cpu(0)>, 'mean_label': None, 'mean_weight': \u001b[0m\n",
      "\u001b[34m[1.00912115e+03 3.06363702e-01 1.50363654e-01 2.43727297e-01\n",
      " 9.03636366e-02 1.08363651e-01 1.05818190e-01 9.20000076e-02\n",
      " 1.08545475e-01 9.40909237e-02 2.93636415e-02 2.69090924e-02\n",
      " 8.40909258e-02 8.22727308e-02 7.73636475e-02 3.75454538e-02\n",
      " 3.27272750e-02 3.34545448e-02 3.10909115e-02 3.44545506e-02\n",
      " 3.30000035e-02 2.82727275e-02 3.23636383e-02 3.33636403e-02\n",
      " 3.14545482e-02 3.37272733e-02 3.34545448e-02 3.38181853e-02\n",
      " 3.32727320e-02 3.16363648e-02 3.70000005e-02 3.24545465e-02\n",
      " 3.46363708e-02 3.12727280e-02 2.98181828e-02 3.38181853e-02\n",
      " 2.93636397e-02 3.48181874e-02 3.40000018e-02 3.21818255e-02\n",
      " 3.27272750e-02 3.25454585e-02 3.14545445e-02 2.93636378e-02\n",
      " 1.84545442e-02 1.41545460e-01 1.40818194e-01 1.48636356e-01\n",
      " 1.52090907e-01 1.25454560e-01 1.38363644e-01 1.61818191e-01\n",
      " 5.88181913e-02 3.04909110e-01 1.11454554e-01 5.94545491e-02\n",
      " 1.15090929e-01 1.19818188e-01 8.27272832e-02 1.48363620e-01\n",
      " 1.37363657e-01 1.01090916e-01 1.17454551e-01 5.86363710e-02\n",
      " 1.13090925e-01 1.30818188e-01 8.28181803e-02 1.44454539e-01\n",
      " 1.31454557e-01 1.03272736e-01 1.22545473e-01]\u001b[0m\n",
      "\u001b[34m<NDArray 71 @cpu(0)>}\u001b[0m\n",
      "\u001b[34m/opt/amazon/python3.8/lib/python3.8/subprocess.py:848: RuntimeWarning: line buffering (buffering=1) isn't supported in binary mode, the default buffer size will be used\n",
      "  self.stdout = io.open(c2pread, 'rb', bufsize)\u001b[0m\n",
      "\u001b[34m[10/31/2023 20:30:05 INFO 139963066464064] nvidia-smi: took 0.032 seconds to run.\u001b[0m\n",
      "\u001b[34m[10/31/2023 20:30:05 INFO 139963066464064] nvidia-smi identified 0 GPUs.\u001b[0m\n",
      "\u001b[34m[10/31/2023 20:30:05 INFO 139963066464064] Number of GPUs being used: 0\u001b[0m\n",
      "\u001b[34m#metrics {\"StartTime\": 1698784205.14708, \"EndTime\": 1698784205.1471143, \"Dimensions\": {\"Algorithm\": \"Linear Learner\", \"Host\": \"algo-1\", \"Operation\": \"training\", \"Meta\": \"init_train_data_iter\"}, \"Metrics\": {\"Total Records Seen\": {\"sum\": 12000.0, \"count\": 1, \"min\": 12000, \"max\": 12000}, \"Total Batches Seen\": {\"sum\": 12.0, \"count\": 1, \"min\": 12, \"max\": 12}, \"Max Records Seen Between Resets\": {\"sum\": 11000.0, \"count\": 1, \"min\": 11000, \"max\": 11000}, \"Max Batches Seen Between Resets\": {\"sum\": 11.0, \"count\": 1, \"min\": 11, \"max\": 11}, \"Reset Count\": {\"sum\": 2.0, \"count\": 1, \"min\": 2, \"max\": 2}, \"Number of Records Since Last Reset\": {\"sum\": 0.0, \"count\": 1, \"min\": 0, \"max\": 0}, \"Number of Batches Since Last Reset\": {\"sum\": 0.0, \"count\": 1, \"min\": 0, \"max\": 0}}}\u001b[0m\n",
      "\u001b[34m#metrics {\"StartTime\": 1698784232.2905226, \"EndTime\": 1698784232.290578, \"Dimensions\": {\"Algorithm\": \"Linear Learner\", \"Host\": \"algo-1\", \"Operation\": \"training\", \"epoch\": 0, \"model\": 0}, \"Metrics\": {\"train_binary_classification_cross_entropy_objective\": {\"sum\": 0.5211747787911551, \"count\": 1, \"min\": 0.5211747787911551, \"max\": 0.5211747787911551}}}\u001b[0m\n",
      "\u001b[34m#metrics {\"StartTime\": 1698784232.2906466, \"EndTime\": 1698784232.29066, \"Dimensions\": {\"Algorithm\": \"Linear Learner\", \"Host\": \"algo-1\", \"Operation\": \"training\", \"epoch\": 0, \"model\": 1}, \"Metrics\": {\"train_binary_classification_cross_entropy_objective\": {\"sum\": 0.5215715617588588, \"count\": 1, \"min\": 0.5215715617588588, \"max\": 0.5215715617588588}}}\u001b[0m\n",
      "\u001b[34m#metrics {\"StartTime\": 1698784232.2907052, \"EndTime\": 1698784232.2907164, \"Dimensions\": {\"Algorithm\": \"Linear Learner\", \"Host\": \"algo-1\", \"Operation\": \"training\", \"epoch\": 0, \"model\": 2}, \"Metrics\": {\"train_binary_classification_cross_entropy_objective\": {\"sum\": 0.5212635672433036, \"count\": 1, \"min\": 0.5212635672433036, \"max\": 0.5212635672433036}}}\u001b[0m\n",
      "\u001b[34m#metrics {\"StartTime\": 1698784232.2907524, \"EndTime\": 1698784232.290764, \"Dimensions\": {\"Algorithm\": \"Linear Learner\", \"Host\": \"algo-1\", \"Operation\": \"training\", \"epoch\": 0, \"model\": 3}, \"Metrics\": {\"train_binary_classification_cross_entropy_objective\": {\"sum\": 0.5214418014526367, \"count\": 1, \"min\": 0.5214418014526367, \"max\": 0.5214418014526367}}}\u001b[0m\n",
      "\u001b[34m#metrics {\"StartTime\": 1698784232.290797, \"EndTime\": 1698784232.2908063, \"Dimensions\": {\"Algorithm\": \"Linear Learner\", \"Host\": \"algo-1\", \"Operation\": \"training\", \"epoch\": 0, \"model\": 4}, \"Metrics\": {\"train_binary_classification_cross_entropy_objective\": {\"sum\": 0.53507709790911, \"count\": 1, \"min\": 0.53507709790911, \"max\": 0.53507709790911}}}\u001b[0m\n",
      "\u001b[34m#metrics {\"StartTime\": 1698784232.2908394, \"EndTime\": 1698784232.2908502, \"Dimensions\": {\"Algorithm\": \"Linear Learner\", \"Host\": \"algo-1\", \"Operation\": \"training\", \"epoch\": 0, \"model\": 5}, \"Metrics\": {\"train_binary_classification_cross_entropy_objective\": {\"sum\": 0.5401134999738421, \"count\": 1, \"min\": 0.5401134999738421, \"max\": 0.5401134999738421}}}\u001b[0m\n",
      "\u001b[34m#metrics {\"StartTime\": 1698784232.2908905, \"EndTime\": 1698784232.2909026, \"Dimensions\": {\"Algorithm\": \"Linear Learner\", \"Host\": \"algo-1\", \"Operation\": \"training\", \"epoch\": 0, \"model\": 6}, \"Metrics\": {\"train_binary_classification_cross_entropy_objective\": {\"sum\": 0.5351145428466797, \"count\": 1, \"min\": 0.5351145428466797, \"max\": 0.5351145428466797}}}\u001b[0m\n",
      "\u001b[34m#metrics {\"StartTime\": 1698784232.2909422, \"EndTime\": 1698784232.2909524, \"Dimensions\": {\"Algorithm\": \"Linear Learner\", \"Host\": \"algo-1\", \"Operation\": \"training\", \"epoch\": 0, \"model\": 7}, \"Metrics\": {\"train_binary_classification_cross_entropy_objective\": {\"sum\": 0.5400868404279436, \"count\": 1, \"min\": 0.5400868404279436, \"max\": 0.5400868404279436}}}\u001b[0m\n",
      "\u001b[34m#metrics {\"StartTime\": 1698784232.2909944, \"EndTime\": 1698784232.2910063, \"Dimensions\": {\"Algorithm\": \"Linear Learner\", \"Host\": \"algo-1\", \"Operation\": \"training\", \"epoch\": 0, \"model\": 8}, \"Metrics\": {\"train_binary_classification_cross_entropy_objective\": {\"sum\": 0.5212844600132533, \"count\": 1, \"min\": 0.5212844600132533, \"max\": 0.5212844600132533}}}\u001b[0m\n",
      "\u001b[34m#metrics {\"StartTime\": 1698784232.291047, \"EndTime\": 1698784232.291059, \"Dimensions\": {\"Algorithm\": \"Linear Learner\", \"Host\": \"algo-1\", \"Operation\": \"training\", \"epoch\": 0, \"model\": 9}, \"Metrics\": {\"train_binary_classification_cross_entropy_objective\": {\"sum\": 0.5215729103306361, \"count\": 1, \"min\": 0.5215729103306361, \"max\": 0.5215729103306361}}}\u001b[0m\n",
      "\u001b[34m#metrics {\"StartTime\": 1698784232.2910974, \"EndTime\": 1698784232.2911088, \"Dimensions\": {\"Algorithm\": \"Linear Learner\", \"Host\": \"algo-1\", \"Operation\": \"training\", \"epoch\": 0, \"model\": 10}, \"Metrics\": {\"train_binary_classification_cross_entropy_objective\": {\"sum\": 0.5212411550903321, \"count\": 1, \"min\": 0.5212411550903321, \"max\": 0.5212411550903321}}}\u001b[0m\n",
      "\u001b[34m#metrics {\"StartTime\": 1698784232.2911506, \"EndTime\": 1698784232.2911623, \"Dimensions\": {\"Algorithm\": \"Linear Learner\", \"Host\": \"algo-1\", \"Operation\": \"training\", \"epoch\": 0, \"model\": 11}, \"Metrics\": {\"train_binary_classification_cross_entropy_objective\": {\"sum\": 0.5216221327427455, \"count\": 1, \"min\": 0.5216221327427455, \"max\": 0.5216221327427455}}}\u001b[0m\n",
      "\u001b[34m#metrics {\"StartTime\": 1698784232.291202, \"EndTime\": 1698784232.291214, \"Dimensions\": {\"Algorithm\": \"Linear Learner\", \"Host\": \"algo-1\", \"Operation\": \"training\", \"epoch\": 0, \"model\": 12}, \"Metrics\": {\"train_binary_classification_cross_entropy_objective\": {\"sum\": 0.5342750887189592, \"count\": 1, \"min\": 0.5342750887189592, \"max\": 0.5342750887189592}}}\u001b[0m\n",
      "\u001b[34m#metrics {\"StartTime\": 1698784232.291258, \"EndTime\": 1698784232.2912703, \"Dimensions\": {\"Algorithm\": \"Linear Learner\", \"Host\": \"algo-1\", \"Operation\": \"training\", \"epoch\": 0, \"model\": 13}, \"Metrics\": {\"train_binary_classification_cross_entropy_objective\": {\"sum\": 0.5388861216953823, \"count\": 1, \"min\": 0.5388861216953823, \"max\": 0.5388861216953823}}}\u001b[0m\n",
      "\u001b[34m#metrics {\"StartTime\": 1698784232.2913113, \"EndTime\": 1698784232.291324, \"Dimensions\": {\"Algorithm\": \"Linear Learner\", \"Host\": \"algo-1\", \"Operation\": \"training\", \"epoch\": 0, \"model\": 14}, \"Metrics\": {\"train_binary_classification_cross_entropy_objective\": {\"sum\": 0.5341651943533762, \"count\": 1, \"min\": 0.5341651943533762, \"max\": 0.5341651943533762}}}\u001b[0m\n",
      "\u001b[34m#metrics {\"StartTime\": 1698784232.2913654, \"EndTime\": 1698784232.2913768, \"Dimensions\": {\"Algorithm\": \"Linear Learner\", \"Host\": \"algo-1\", \"Operation\": \"training\", \"epoch\": 0, \"model\": 15}, \"Metrics\": {\"train_binary_classification_cross_entropy_objective\": {\"sum\": 0.5388981368582589, \"count\": 1, \"min\": 0.5388981368582589, \"max\": 0.5388981368582589}}}\u001b[0m\n",
      "\u001b[34m#metrics {\"StartTime\": 1698784232.2914104, \"EndTime\": 1698784232.291419, \"Dimensions\": {\"Algorithm\": \"Linear Learner\", \"Host\": \"algo-1\", \"Operation\": \"training\", \"epoch\": 0, \"model\": 16}, \"Metrics\": {\"train_binary_classification_cross_entropy_objective\": {\"sum\": 0.5282753982107979, \"count\": 1, \"min\": 0.5282753982107979, \"max\": 0.5282753982107979}}}\u001b[0m\n",
      "\u001b[34m#metrics {\"StartTime\": 1698784232.2914567, \"EndTime\": 1698784232.2914667, \"Dimensions\": {\"Algorithm\": \"Linear Learner\", \"Host\": \"algo-1\", \"Operation\": \"training\", \"epoch\": 0, \"model\": 17}, \"Metrics\": {\"train_binary_classification_cross_entropy_objective\": {\"sum\": 0.5283657783290318, \"count\": 1, \"min\": 0.5283657783290318, \"max\": 0.5283657783290318}}}\u001b[0m\n",
      "\u001b[34m#metrics {\"StartTime\": 1698784232.2915015, \"EndTime\": 1698784232.2915103, \"Dimensions\": {\"Algorithm\": \"Linear Learner\", \"Host\": \"algo-1\", \"Operation\": \"training\", \"epoch\": 0, \"model\": 18}, \"Metrics\": {\"train_binary_classification_cross_entropy_objective\": {\"sum\": 0.5283532736206055, \"count\": 1, \"min\": 0.5283532736206055, \"max\": 0.5283532736206055}}}\u001b[0m\n",
      "\u001b[34m#metrics {\"StartTime\": 1698784232.2915437, \"EndTime\": 1698784232.2915523, \"Dimensions\": {\"Algorithm\": \"Linear Learner\", \"Host\": \"algo-1\", \"Operation\": \"training\", \"epoch\": 0, \"model\": 19}, \"Metrics\": {\"train_binary_classification_cross_entropy_objective\": {\"sum\": 0.5283367916870118, \"count\": 1, \"min\": 0.5283367916870118, \"max\": 0.5283367916870118}}}\u001b[0m\n",
      "\u001b[34m#metrics {\"StartTime\": 1698784232.2915869, \"EndTime\": 1698784232.2915967, \"Dimensions\": {\"Algorithm\": \"Linear Learner\", \"Host\": \"algo-1\", \"Operation\": \"training\", \"epoch\": 0, \"model\": 20}, \"Metrics\": {\"train_binary_classification_cross_entropy_objective\": {\"sum\": 0.5300586340332031, \"count\": 1, \"min\": 0.5300586340332031, \"max\": 0.5300586340332031}}}\u001b[0m\n",
      "\u001b[34m#metrics {\"StartTime\": 1698784232.291636, \"EndTime\": 1698784232.2916465, \"Dimensions\": {\"Algorithm\": \"Linear Learner\", \"Host\": \"algo-1\", \"Operation\": \"training\", \"epoch\": 0, \"model\": 21}, \"Metrics\": {\"train_binary_classification_cross_entropy_objective\": {\"sum\": 0.5309111094447545, \"count\": 1, \"min\": 0.5309111094447545, \"max\": 0.5309111094447545}}}\u001b[0m\n",
      "\u001b[34m#metrics {\"StartTime\": 1698784232.2916837, \"EndTime\": 1698784232.2916949, \"Dimensions\": {\"Algorithm\": \"Linear Learner\", \"Host\": \"algo-1\", \"Operation\": \"training\", \"epoch\": 0, \"model\": 22}, \"Metrics\": {\"train_binary_classification_cross_entropy_objective\": {\"sum\": 0.5300545423671178, \"count\": 1, \"min\": 0.5300545423671178, \"max\": 0.5300545423671178}}}\u001b[0m\n",
      "\u001b[34m#metrics {\"StartTime\": 1698784232.2917345, \"EndTime\": 1698784232.291746, \"Dimensions\": {\"Algorithm\": \"Linear Learner\", \"Host\": \"algo-1\", \"Operation\": \"training\", \"epoch\": 0, \"model\": 23}, \"Metrics\": {\"train_binary_classification_cross_entropy_objective\": {\"sum\": 0.530857888924735, \"count\": 1, \"min\": 0.530857888924735, \"max\": 0.530857888924735}}}\u001b[0m\n",
      "\u001b[34m#metrics {\"StartTime\": 1698784232.2917867, \"EndTime\": 1698784232.2917974, \"Dimensions\": {\"Algorithm\": \"Linear Learner\", \"Host\": \"algo-1\", \"Operation\": \"training\", \"epoch\": 0, \"model\": 24}, \"Metrics\": {\"train_binary_classification_cross_entropy_objective\": {\"sum\": 0.5315246292986189, \"count\": 1, \"min\": 0.5315246292986189, \"max\": 0.5315246292986189}}}\u001b[0m\n",
      "\u001b[34m#metrics {\"StartTime\": 1698784232.2918339, \"EndTime\": 1698784232.2918441, \"Dimensions\": {\"Algorithm\": \"Linear Learner\", \"Host\": \"algo-1\", \"Operation\": \"training\", \"epoch\": 0, \"model\": 25}, \"Metrics\": {\"train_binary_classification_cross_entropy_objective\": {\"sum\": 0.5315357354300363, \"count\": 1, \"min\": 0.5315357354300363, \"max\": 0.5315357354300363}}}\u001b[0m\n",
      "\u001b[34m#metrics {\"StartTime\": 1698784232.2918801, \"EndTime\": 1698784232.2918901, \"Dimensions\": {\"Algorithm\": \"Linear Learner\", \"Host\": \"algo-1\", \"Operation\": \"training\", \"epoch\": 0, \"model\": 26}, \"Metrics\": {\"train_binary_classification_cross_entropy_objective\": {\"sum\": 0.5314972921316964, \"count\": 1, \"min\": 0.5314972921316964, \"max\": 0.5314972921316964}}}\u001b[0m\n",
      "\u001b[34m#metrics {\"StartTime\": 1698784232.2919307, \"EndTime\": 1698784232.2919424, \"Dimensions\": {\"Algorithm\": \"Linear Learner\", \"Host\": \"algo-1\", \"Operation\": \"training\", \"epoch\": 0, \"model\": 27}, \"Metrics\": {\"train_binary_classification_cross_entropy_objective\": {\"sum\": 0.5315619314139229, \"count\": 1, \"min\": 0.5315619314139229, \"max\": 0.5315619314139229}}}\u001b[0m\n",
      "\u001b[34m#metrics {\"StartTime\": 1698784232.2919807, \"EndTime\": 1698784232.2919936, \"Dimensions\": {\"Algorithm\": \"Linear Learner\", \"Host\": \"algo-1\", \"Operation\": \"training\", \"epoch\": 0, \"model\": 28}, \"Metrics\": {\"train_binary_classification_cross_entropy_objective\": {\"sum\": 0.5318747743443081, \"count\": 1, \"min\": 0.5318747743443081, \"max\": 0.5318747743443081}}}\u001b[0m\n",
      "\u001b[34m#metrics {\"StartTime\": 1698784232.2920322, \"EndTime\": 1698784232.2920434, \"Dimensions\": {\"Algorithm\": \"Linear Learner\", \"Host\": \"algo-1\", \"Operation\": \"training\", \"epoch\": 0, \"model\": 29}, \"Metrics\": {\"train_binary_classification_cross_entropy_objective\": {\"sum\": 0.5321727408708845, \"count\": 1, \"min\": 0.5321727408708845, \"max\": 0.5321727408708845}}}\u001b[0m\n",
      "\u001b[34m#metrics {\"StartTime\": 1698784232.2920854, \"EndTime\": 1698784232.2920976, \"Dimensions\": {\"Algorithm\": \"Linear Learner\", \"Host\": \"algo-1\", \"Operation\": \"training\", \"epoch\": 0, \"model\": 30}, \"Metrics\": {\"train_binary_classification_cross_entropy_objective\": {\"sum\": 0.5318186688668387, \"count\": 1, \"min\": 0.5318186688668387, \"max\": 0.5318186688668387}}}\u001b[0m\n",
      "\u001b[34m#metrics {\"StartTime\": 1698784232.2921386, \"EndTime\": 1698784232.29215, \"Dimensions\": {\"Algorithm\": \"Linear Learner\", \"Host\": \"algo-1\", \"Operation\": \"training\", \"epoch\": 0, \"model\": 31}, \"Metrics\": {\"train_binary_classification_cross_entropy_objective\": {\"sum\": 0.5322410732596261, \"count\": 1, \"min\": 0.5322410732596261, \"max\": 0.5322410732596261}}}\u001b[0m\n",
      "\u001b[34m[10/31/2023 20:30:32 INFO 139963066464064] #quality_metric: host=algo-1, epoch=0, train binary_classification_cross_entropy_objective <loss>=0.5211747787911551\u001b[0m\n",
      "\u001b[34m#metrics {\"StartTime\": 1698784240.8715837, \"EndTime\": 1698784240.871664, \"Dimensions\": {\"Algorithm\": \"Linear Learner\", \"Host\": \"algo-1\", \"Operation\": \"training\", \"epoch\": 0, \"model\": 0}, \"Metrics\": {\"validation_binary_classification_cross_entropy_objective\": {\"sum\": 0.5176117071533203, \"count\": 1, \"min\": 0.5176117071533203, \"max\": 0.5176117071533203}}}\u001b[0m\n",
      "\u001b[34m#metrics {\"StartTime\": 1698784240.871751, \"EndTime\": 1698784240.871766, \"Dimensions\": {\"Algorithm\": \"Linear Learner\", \"Host\": \"algo-1\", \"Operation\": \"training\", \"epoch\": 0, \"model\": 1}, \"Metrics\": {\"validation_binary_classification_cross_entropy_objective\": {\"sum\": 0.5180946360270182, \"count\": 1, \"min\": 0.5180946360270182, \"max\": 0.5180946360270182}}}\u001b[0m\n",
      "\u001b[34m#metrics {\"StartTime\": 1698784240.871808, \"EndTime\": 1698784240.871842, \"Dimensions\": {\"Algorithm\": \"Linear Learner\", \"Host\": \"algo-1\", \"Operation\": \"training\", \"epoch\": 0, \"model\": 2}, \"Metrics\": {\"validation_binary_classification_cross_entropy_objective\": {\"sum\": 0.5176174963378907, \"count\": 1, \"min\": 0.5176174963378907, \"max\": 0.5176174963378907}}}\u001b[0m\n",
      "\u001b[34m#metrics {\"StartTime\": 1698784240.871881, \"EndTime\": 1698784240.8719072, \"Dimensions\": {\"Algorithm\": \"Linear Learner\", \"Host\": \"algo-1\", \"Operation\": \"training\", \"epoch\": 0, \"model\": 3}, \"Metrics\": {\"validation_binary_classification_cross_entropy_objective\": {\"sum\": 0.5180952040608724, \"count\": 1, \"min\": 0.5180952040608724, \"max\": 0.5180952040608724}}}\u001b[0m\n",
      "\u001b[34m#metrics {\"StartTime\": 1698784240.8719432, \"EndTime\": 1698784240.8719532, \"Dimensions\": {\"Algorithm\": \"Linear Learner\", \"Host\": \"algo-1\", \"Operation\": \"training\", \"epoch\": 0, \"model\": 4}, \"Metrics\": {\"validation_binary_classification_cross_entropy_objective\": {\"sum\": 0.5281810121663412, \"count\": 1, \"min\": 0.5281810121663412, \"max\": 0.5281810121663412}}}\u001b[0m\n",
      "\u001b[34m#metrics {\"StartTime\": 1698784240.8720024, \"EndTime\": 1698784240.8720121, \"Dimensions\": {\"Algorithm\": \"Linear Learner\", \"Host\": \"algo-1\", \"Operation\": \"training\", \"epoch\": 0, \"model\": 5}, \"Metrics\": {\"validation_binary_classification_cross_entropy_objective\": {\"sum\": 0.5409212972005208, \"count\": 1, \"min\": 0.5409212972005208, \"max\": 0.5409212972005208}}}\u001b[0m\n",
      "\u001b[34m#metrics {\"StartTime\": 1698784240.8720422, \"EndTime\": 1698784240.872072, \"Dimensions\": {\"Algorithm\": \"Linear Learner\", \"Host\": \"algo-1\", \"Operation\": \"training\", \"epoch\": 0, \"model\": 6}, \"Metrics\": {\"validation_binary_classification_cross_entropy_objective\": {\"sum\": 0.5281873162841797, \"count\": 1, \"min\": 0.5281873162841797, \"max\": 0.5281873162841797}}}\u001b[0m\n",
      "\u001b[34m#metrics {\"StartTime\": 1698784240.8721116, \"EndTime\": 1698784240.8721235, \"Dimensions\": {\"Algorithm\": \"Linear Learner\", \"Host\": \"algo-1\", \"Operation\": \"training\", \"epoch\": 0, \"model\": 7}, \"Metrics\": {\"validation_binary_classification_cross_entropy_objective\": {\"sum\": 0.5409207250976562, \"count\": 1, \"min\": 0.5409207250976562, \"max\": 0.5409207250976562}}}\u001b[0m\n",
      "\u001b[34m#metrics {\"StartTime\": 1698784240.8721912, \"EndTime\": 1698784240.8722641, \"Dimensions\": {\"Algorithm\": \"Linear Learner\", \"Host\": \"algo-1\", \"Operation\": \"training\", \"epoch\": 0, \"model\": 8}, \"Metrics\": {\"validation_binary_classification_cross_entropy_objective\": {\"sum\": 0.5176636175537109, \"count\": 1, \"min\": 0.5176636175537109, \"max\": 0.5176636175537109}}}\u001b[0m\n",
      "\u001b[34m#metrics {\"StartTime\": 1698784240.8725798, \"EndTime\": 1698784240.8726017, \"Dimensions\": {\"Algorithm\": \"Linear Learner\", \"Host\": \"algo-1\", \"Operation\": \"training\", \"epoch\": 0, \"model\": 9}, \"Metrics\": {\"validation_binary_classification_cross_entropy_objective\": {\"sum\": 0.5181808380126953, \"count\": 1, \"min\": 0.5181808380126953, \"max\": 0.5181808380126953}}}\u001b[0m\n",
      "\u001b[34m#metrics {\"StartTime\": 1698784240.872664, \"EndTime\": 1698784240.8727448, \"Dimensions\": {\"Algorithm\": \"Linear Learner\", \"Host\": \"algo-1\", \"Operation\": \"training\", \"epoch\": 0, \"model\": 10}, \"Metrics\": {\"validation_binary_classification_cross_entropy_objective\": {\"sum\": 0.5176607295735677, \"count\": 1, \"min\": 0.5176607295735677, \"max\": 0.5176607295735677}}}\u001b[0m\n",
      "\u001b[34m#metrics {\"StartTime\": 1698784240.8727996, \"EndTime\": 1698784240.872899, \"Dimensions\": {\"Algorithm\": \"Linear Learner\", \"Host\": \"algo-1\", \"Operation\": \"training\", \"epoch\": 0, \"model\": 11}, \"Metrics\": {\"validation_binary_classification_cross_entropy_objective\": {\"sum\": 0.5181818863932292, \"count\": 1, \"min\": 0.5181818863932292, \"max\": 0.5181818863932292}}}\u001b[0m\n",
      "\u001b[34m#metrics {\"StartTime\": 1698784240.8729415, \"EndTime\": 1698784240.8730211, \"Dimensions\": {\"Algorithm\": \"Linear Learner\", \"Host\": \"algo-1\", \"Operation\": \"training\", \"epoch\": 0, \"model\": 12}, \"Metrics\": {\"validation_binary_classification_cross_entropy_objective\": {\"sum\": 0.5277255959065755, \"count\": 1, \"min\": 0.5277255959065755, \"max\": 0.5277255959065755}}}\u001b[0m\n",
      "\u001b[34m#metrics {\"StartTime\": 1698784240.8730683, \"EndTime\": 1698784240.873152, \"Dimensions\": {\"Algorithm\": \"Linear Learner\", \"Host\": \"algo-1\", \"Operation\": \"training\", \"epoch\": 0, \"model\": 13}, \"Metrics\": {\"validation_binary_classification_cross_entropy_objective\": {\"sum\": 0.5395425089518229, \"count\": 1, \"min\": 0.5395425089518229, \"max\": 0.5395425089518229}}}\u001b[0m\n",
      "\u001b[34m#metrics {\"StartTime\": 1698784240.8731985, \"EndTime\": 1698784240.8732922, \"Dimensions\": {\"Algorithm\": \"Linear Learner\", \"Host\": \"algo-1\", \"Operation\": \"training\", \"epoch\": 0, \"model\": 14}, \"Metrics\": {\"validation_binary_classification_cross_entropy_objective\": {\"sum\": 0.5277370483398437, \"count\": 1, \"min\": 0.5277370483398437, \"max\": 0.5277370483398437}}}\u001b[0m\n",
      "\u001b[34m#metrics {\"StartTime\": 1698784240.8733418, \"EndTime\": 1698784240.8733542, \"Dimensions\": {\"Algorithm\": \"Linear Learner\", \"Host\": \"algo-1\", \"Operation\": \"training\", \"epoch\": 0, \"model\": 15}, \"Metrics\": {\"validation_binary_classification_cross_entropy_objective\": {\"sum\": 0.5395323775227865, \"count\": 1, \"min\": 0.5395323775227865, \"max\": 0.5395323775227865}}}\u001b[0m\n",
      "\u001b[34m#metrics {\"StartTime\": 1698784240.873393, \"EndTime\": 1698784240.8734033, \"Dimensions\": {\"Algorithm\": \"Linear Learner\", \"Host\": \"algo-1\", \"Operation\": \"training\", \"epoch\": 0, \"model\": 16}, \"Metrics\": {\"validation_binary_classification_cross_entropy_objective\": {\"sum\": 0.525184355875651, \"count\": 1, \"min\": 0.525184355875651, \"max\": 0.525184355875651}}}\u001b[0m\n",
      "\u001b[34m#metrics {\"StartTime\": 1698784240.8734376, \"EndTime\": 1698784240.8734477, \"Dimensions\": {\"Algorithm\": \"Linear Learner\", \"Host\": \"algo-1\", \"Operation\": \"training\", \"epoch\": 0, \"model\": 17}, \"Metrics\": {\"validation_binary_classification_cross_entropy_objective\": {\"sum\": 0.5256092309570313, \"count\": 1, \"min\": 0.5256092309570313, \"max\": 0.5256092309570313}}}\u001b[0m\n",
      "\u001b[34m#metrics {\"StartTime\": 1698784240.8734844, \"EndTime\": 1698784240.8734949, \"Dimensions\": {\"Algorithm\": \"Linear Learner\", \"Host\": \"algo-1\", \"Operation\": \"training\", \"epoch\": 0, \"model\": 18}, \"Metrics\": {\"validation_binary_classification_cross_entropy_objective\": {\"sum\": 0.5251818813069662, \"count\": 1, \"min\": 0.5251818813069662, \"max\": 0.5251818813069662}}}\u001b[0m\n",
      "\u001b[34m#metrics {\"StartTime\": 1698784240.8735485, \"EndTime\": 1698784240.8735611, \"Dimensions\": {\"Algorithm\": \"Linear Learner\", \"Host\": \"algo-1\", \"Operation\": \"training\", \"epoch\": 0, \"model\": 19}, \"Metrics\": {\"validation_binary_classification_cross_entropy_objective\": {\"sum\": 0.5256132920328777, \"count\": 1, \"min\": 0.5256132920328777, \"max\": 0.5256132920328777}}}\u001b[0m\n",
      "\u001b[34m#metrics {\"StartTime\": 1698784240.8736439, \"EndTime\": 1698784240.8736577, \"Dimensions\": {\"Algorithm\": \"Linear Learner\", \"Host\": \"algo-1\", \"Operation\": \"training\", \"epoch\": 0, \"model\": 20}, \"Metrics\": {\"validation_binary_classification_cross_entropy_objective\": {\"sum\": 0.5267051969401042, \"count\": 1, \"min\": 0.5267051969401042, \"max\": 0.5267051969401042}}}\u001b[0m\n",
      "\u001b[34m#metrics {\"StartTime\": 1698784240.8737135, \"EndTime\": 1698784240.8737266, \"Dimensions\": {\"Algorithm\": \"Linear Learner\", \"Host\": \"algo-1\", \"Operation\": \"training\", \"epoch\": 0, \"model\": 21}, \"Metrics\": {\"validation_binary_classification_cross_entropy_objective\": {\"sum\": 0.5284125915527343, \"count\": 1, \"min\": 0.5284125915527343, \"max\": 0.5284125915527343}}}\u001b[0m\n",
      "\u001b[34m#metrics {\"StartTime\": 1698784240.873762, \"EndTime\": 1698784240.8737807, \"Dimensions\": {\"Algorithm\": \"Linear Learner\", \"Host\": \"algo-1\", \"Operation\": \"training\", \"epoch\": 0, \"model\": 22}, \"Metrics\": {\"validation_binary_classification_cross_entropy_objective\": {\"sum\": 0.5267142502848308, \"count\": 1, \"min\": 0.5267142502848308, \"max\": 0.5267142502848308}}}\u001b[0m\n",
      "\u001b[34m#metrics {\"StartTime\": 1698784240.8738353, \"EndTime\": 1698784240.8738477, \"Dimensions\": {\"Algorithm\": \"Linear Learner\", \"Host\": \"algo-1\", \"Operation\": \"training\", \"epoch\": 0, \"model\": 23}, \"Metrics\": {\"validation_binary_classification_cross_entropy_objective\": {\"sum\": 0.5283291129557292, \"count\": 1, \"min\": 0.5283291129557292, \"max\": 0.5283291129557292}}}\u001b[0m\n",
      "\u001b[34m#metrics {\"StartTime\": 1698784240.8739176, \"EndTime\": 1698784240.8739312, \"Dimensions\": {\"Algorithm\": \"Linear Learner\", \"Host\": \"algo-1\", \"Operation\": \"training\", \"epoch\": 0, \"model\": 24}, \"Metrics\": {\"validation_binary_classification_cross_entropy_objective\": {\"sum\": 0.5281593770345052, \"count\": 1, \"min\": 0.5281593770345052, \"max\": 0.5281593770345052}}}\u001b[0m\n",
      "\u001b[34m#metrics {\"StartTime\": 1698784240.8739853, \"EndTime\": 1698784240.8740249, \"Dimensions\": {\"Algorithm\": \"Linear Learner\", \"Host\": \"algo-1\", \"Operation\": \"training\", \"epoch\": 0, \"model\": 25}, \"Metrics\": {\"validation_binary_classification_cross_entropy_objective\": {\"sum\": 0.5282163269042969, \"count\": 1, \"min\": 0.5282163269042969, \"max\": 0.5282163269042969}}}\u001b[0m\n",
      "\u001b[34m#metrics {\"StartTime\": 1698784240.8740697, \"EndTime\": 1698784240.8740816, \"Dimensions\": {\"Algorithm\": \"Linear Learner\", \"Host\": \"algo-1\", \"Operation\": \"training\", \"epoch\": 0, \"model\": 26}, \"Metrics\": {\"validation_binary_classification_cross_entropy_objective\": {\"sum\": 0.528166590983073, \"count\": 1, \"min\": 0.528166590983073, \"max\": 0.528166590983073}}}\u001b[0m\n",
      "\u001b[34m#metrics {\"StartTime\": 1698784240.8741307, \"EndTime\": 1698784240.874142, \"Dimensions\": {\"Algorithm\": \"Linear Learner\", \"Host\": \"algo-1\", \"Operation\": \"training\", \"epoch\": 0, \"model\": 27}, \"Metrics\": {\"validation_binary_classification_cross_entropy_objective\": {\"sum\": 0.528227992960612, \"count\": 1, \"min\": 0.528227992960612, \"max\": 0.528227992960612}}}\u001b[0m\n",
      "\u001b[34m#metrics {\"StartTime\": 1698784240.8741808, \"EndTime\": 1698784240.8741908, \"Dimensions\": {\"Algorithm\": \"Linear Learner\", \"Host\": \"algo-1\", \"Operation\": \"training\", \"epoch\": 0, \"model\": 28}, \"Metrics\": {\"validation_binary_classification_cross_entropy_objective\": {\"sum\": 0.5281455643717448, \"count\": 1, \"min\": 0.5281455643717448, \"max\": 0.5281455643717448}}}\u001b[0m\n",
      "\u001b[34m#metrics {\"StartTime\": 1698784240.874225, \"EndTime\": 1698784240.8742433, \"Dimensions\": {\"Algorithm\": \"Linear Learner\", \"Host\": \"algo-1\", \"Operation\": \"training\", \"epoch\": 0, \"model\": 29}, \"Metrics\": {\"validation_binary_classification_cross_entropy_objective\": {\"sum\": 0.5294350577799479, \"count\": 1, \"min\": 0.5294350577799479, \"max\": 0.5294350577799479}}}\u001b[0m\n",
      "\u001b[34m#metrics {\"StartTime\": 1698784240.8742986, \"EndTime\": 1698784240.8743107, \"Dimensions\": {\"Algorithm\": \"Linear Learner\", \"Host\": \"algo-1\", \"Operation\": \"training\", \"epoch\": 0, \"model\": 30}, \"Metrics\": {\"validation_binary_classification_cross_entropy_objective\": {\"sum\": 0.528147138264974, \"count\": 1, \"min\": 0.528147138264974, \"max\": 0.528147138264974}}}\u001b[0m\n",
      "\u001b[34m#metrics {\"StartTime\": 1698784240.8743799, \"EndTime\": 1698784240.8743935, \"Dimensions\": {\"Algorithm\": \"Linear Learner\", \"Host\": \"algo-1\", \"Operation\": \"training\", \"epoch\": 0, \"model\": 31}, \"Metrics\": {\"validation_binary_classification_cross_entropy_objective\": {\"sum\": 0.5295568587239583, \"count\": 1, \"min\": 0.5295568587239583, \"max\": 0.5295568587239583}}}\u001b[0m\n",
      "\u001b[34m[10/31/2023 20:30:40 INFO 139963066464064] #quality_metric: host=algo-1, epoch=0, validation binary_classification_cross_entropy_objective <loss>=0.5176117071533203\u001b[0m\n",
      "\u001b[34m[10/31/2023 20:30:40 INFO 139963066464064] #early_stopping_criteria_metric: host=algo-1, epoch=0, criteria=sampled_accuracy, value=0.7790466666666669\u001b[0m\n",
      "\u001b[34m[10/31/2023 20:30:40 INFO 139963066464064] Epoch 0: Loss improved. Updating best model\u001b[0m\n",
      "\u001b[34m[10/31/2023 20:30:40 INFO 139963066464064] Saving model for epoch: 0\u001b[0m\n",
      "\u001b[34m[10/31/2023 20:30:40 INFO 139963066464064] Saved checkpoint to \"/tmp/tmpogii1tk1/mx-mod-0000.params\"\u001b[0m\n",
      "\u001b[34m[10/31/2023 20:30:40 INFO 139963066464064] #progress_metric: host=algo-1, completed 33.333333333333336 % of epochs\u001b[0m\n",
      "\u001b[34m#metrics {\"StartTime\": 1698784205.147493, \"EndTime\": 1698784240.8812506, \"Dimensions\": {\"Algorithm\": \"Linear Learner\", \"Host\": \"algo-1\", \"Operation\": \"training\", \"epoch\": 0, \"Meta\": \"training_data_iter\"}, \"Metrics\": {\"Total Records Seen\": {\"sum\": 712000.0, \"count\": 1, \"min\": 712000, \"max\": 712000}, \"Total Batches Seen\": {\"sum\": 712.0, \"count\": 1, \"min\": 712, \"max\": 712}, \"Max Records Seen Between Resets\": {\"sum\": 700000.0, \"count\": 1, \"min\": 700000, \"max\": 700000}, \"Max Batches Seen Between Resets\": {\"sum\": 700.0, \"count\": 1, \"min\": 700, \"max\": 700}, \"Reset Count\": {\"sum\": 3.0, \"count\": 1, \"min\": 3, \"max\": 3}, \"Number of Records Since Last Reset\": {\"sum\": 700000.0, \"count\": 1, \"min\": 700000, \"max\": 700000}, \"Number of Batches Since Last Reset\": {\"sum\": 700.0, \"count\": 1, \"min\": 700, \"max\": 700}}}\u001b[0m\n",
      "\u001b[34m[10/31/2023 20:30:40 INFO 139963066464064] #throughput_metric: host=algo-1, train throughput=19589.22978700208 records/second\u001b[0m\n",
      "\u001b[34m#metrics {\"StartTime\": 1698784269.0830965, \"EndTime\": 1698784269.0831504, \"Dimensions\": {\"Algorithm\": \"Linear Learner\", \"Host\": \"algo-1\", \"Operation\": \"training\", \"epoch\": 1, \"model\": 0}, \"Metrics\": {\"train_binary_classification_cross_entropy_objective\": {\"sum\": 0.518205325578962, \"count\": 1, \"min\": 0.518205325578962, \"max\": 0.518205325578962}}}\u001b[0m\n",
      "\u001b[34m#metrics {\"StartTime\": 1698784269.0832179, \"EndTime\": 1698784269.0832303, \"Dimensions\": {\"Algorithm\": \"Linear Learner\", \"Host\": \"algo-1\", \"Operation\": \"training\", \"epoch\": 1, \"model\": 1}, \"Metrics\": {\"train_binary_classification_cross_entropy_objective\": {\"sum\": 0.5188880080740792, \"count\": 1, \"min\": 0.5188880080740792, \"max\": 0.5188880080740792}}}\u001b[0m\n",
      "\u001b[34m#metrics {\"StartTime\": 1698784269.0833526, \"EndTime\": 1698784269.083367, \"Dimensions\": {\"Algorithm\": \"Linear Learner\", \"Host\": \"algo-1\", \"Operation\": \"training\", \"epoch\": 1, \"model\": 2}, \"Metrics\": {\"train_binary_classification_cross_entropy_objective\": {\"sum\": 0.5182039194597516, \"count\": 1, \"min\": 0.5182039194597516, \"max\": 0.5182039194597516}}}\u001b[0m\n",
      "\u001b[34m#metrics {\"StartTime\": 1698784269.083431, \"EndTime\": 1698784269.083444, \"Dimensions\": {\"Algorithm\": \"Linear Learner\", \"Host\": \"algo-1\", \"Operation\": \"training\", \"epoch\": 1, \"model\": 3}, \"Metrics\": {\"train_binary_classification_cross_entropy_objective\": {\"sum\": 0.5188879230608259, \"count\": 1, \"min\": 0.5188879230608259, \"max\": 0.5188879230608259}}}\u001b[0m\n",
      "\u001b[34m#metrics {\"StartTime\": 1698784269.0834818, \"EndTime\": 1698784269.0835238, \"Dimensions\": {\"Algorithm\": \"Linear Learner\", \"Host\": \"algo-1\", \"Operation\": \"training\", \"epoch\": 1, \"model\": 4}, \"Metrics\": {\"train_binary_classification_cross_entropy_objective\": {\"sum\": 0.5256845023018973, \"count\": 1, \"min\": 0.5256845023018973, \"max\": 0.5256845023018973}}}\u001b[0m\n",
      "\u001b[34m#metrics {\"StartTime\": 1698784269.0836015, \"EndTime\": 1698784269.0836172, \"Dimensions\": {\"Algorithm\": \"Linear Learner\", \"Host\": \"algo-1\", \"Operation\": \"training\", \"epoch\": 1, \"model\": 5}, \"Metrics\": {\"train_binary_classification_cross_entropy_objective\": {\"sum\": 0.5371030313982282, \"count\": 1, \"min\": 0.5371030313982282, \"max\": 0.5371030313982282}}}\u001b[0m\n",
      "\u001b[34m#metrics {\"StartTime\": 1698784269.083694, \"EndTime\": 1698784269.0837092, \"Dimensions\": {\"Algorithm\": \"Linear Learner\", \"Host\": \"algo-1\", \"Operation\": \"training\", \"epoch\": 1, \"model\": 6}, \"Metrics\": {\"train_binary_classification_cross_entropy_objective\": {\"sum\": 0.5256816706630162, \"count\": 1, \"min\": 0.5256816706630162, \"max\": 0.5256816706630162}}}\u001b[0m\n",
      "\u001b[34m#metrics {\"StartTime\": 1698784269.0837877, \"EndTime\": 1698784269.0838032, \"Dimensions\": {\"Algorithm\": \"Linear Learner\", \"Host\": \"algo-1\", \"Operation\": \"training\", \"epoch\": 1, \"model\": 7}, \"Metrics\": {\"train_binary_classification_cross_entropy_objective\": {\"sum\": 0.5371094433157785, \"count\": 1, \"min\": 0.5371094433157785, \"max\": 0.5371094433157785}}}\u001b[0m\n",
      "\u001b[34m#metrics {\"StartTime\": 1698784269.0838802, \"EndTime\": 1698784269.0838943, \"Dimensions\": {\"Algorithm\": \"Linear Learner\", \"Host\": \"algo-1\", \"Operation\": \"training\", \"epoch\": 1, \"model\": 8}, \"Metrics\": {\"train_binary_classification_cross_entropy_objective\": {\"sum\": 0.5182949939836775, \"count\": 1, \"min\": 0.5182949939836775, \"max\": 0.5182949939836775}}}\u001b[0m\n",
      "\u001b[34m#metrics {\"StartTime\": 1698784269.0839632, \"EndTime\": 1698784269.0839777, \"Dimensions\": {\"Algorithm\": \"Linear Learner\", \"Host\": \"algo-1\", \"Operation\": \"training\", \"epoch\": 1, \"model\": 9}, \"Metrics\": {\"train_binary_classification_cross_entropy_objective\": {\"sum\": 0.5189474210902623, \"count\": 1, \"min\": 0.5189474210902623, \"max\": 0.5189474210902623}}}\u001b[0m\n",
      "\u001b[34m#metrics {\"StartTime\": 1698784269.084048, \"EndTime\": 1698784269.084062, \"Dimensions\": {\"Algorithm\": \"Linear Learner\", \"Host\": \"algo-1\", \"Operation\": \"training\", \"epoch\": 1, \"model\": 10}, \"Metrics\": {\"train_binary_classification_cross_entropy_objective\": {\"sum\": 0.5182946651785715, \"count\": 1, \"min\": 0.5182946651785715, \"max\": 0.5182946651785715}}}\u001b[0m\n",
      "\u001b[34m#metrics {\"StartTime\": 1698784269.0841315, \"EndTime\": 1698784269.0841465, \"Dimensions\": {\"Algorithm\": \"Linear Learner\", \"Host\": \"algo-1\", \"Operation\": \"training\", \"epoch\": 1, \"model\": 11}, \"Metrics\": {\"train_binary_classification_cross_entropy_objective\": {\"sum\": 0.5189474995204381, \"count\": 1, \"min\": 0.5189474995204381, \"max\": 0.5189474995204381}}}\u001b[0m\n",
      "\u001b[34m#metrics {\"StartTime\": 1698784269.084218, \"EndTime\": 1698784269.0842316, \"Dimensions\": {\"Algorithm\": \"Linear Learner\", \"Host\": \"algo-1\", \"Operation\": \"training\", \"epoch\": 1, \"model\": 12}, \"Metrics\": {\"train_binary_classification_cross_entropy_objective\": {\"sum\": 0.5253473060389927, \"count\": 1, \"min\": 0.5253473060389927, \"max\": 0.5253473060389927}}}\u001b[0m\n",
      "\u001b[34m#metrics {\"StartTime\": 1698784269.0843034, \"EndTime\": 1698784269.0843382, \"Dimensions\": {\"Algorithm\": \"Linear Learner\", \"Host\": \"algo-1\", \"Operation\": \"training\", \"epoch\": 1, \"model\": 13}, \"Metrics\": {\"train_binary_classification_cross_entropy_objective\": {\"sum\": 0.5360274652971541, \"count\": 1, \"min\": 0.5360274652971541, \"max\": 0.5360274652971541}}}\u001b[0m\n",
      "\u001b[34m#metrics {\"StartTime\": 1698784269.084386, \"EndTime\": 1698784269.0844228, \"Dimensions\": {\"Algorithm\": \"Linear Learner\", \"Host\": \"algo-1\", \"Operation\": \"training\", \"epoch\": 1, \"model\": 14}, \"Metrics\": {\"train_binary_classification_cross_entropy_objective\": {\"sum\": 0.5253510078212194, \"count\": 1, \"min\": 0.5253510078212194, \"max\": 0.5253510078212194}}}\u001b[0m\n",
      "\u001b[34m#metrics {\"StartTime\": 1698784269.0844722, \"EndTime\": 1698784269.084509, \"Dimensions\": {\"Algorithm\": \"Linear Learner\", \"Host\": \"algo-1\", \"Operation\": \"training\", \"epoch\": 1, \"model\": 15}, \"Metrics\": {\"train_binary_classification_cross_entropy_objective\": {\"sum\": 0.5360238276890346, \"count\": 1, \"min\": 0.5360238276890346, \"max\": 0.5360238276890346}}}\u001b[0m\n",
      "\u001b[34m#metrics {\"StartTime\": 1698784269.0845551, \"EndTime\": 1698784269.0845923, \"Dimensions\": {\"Algorithm\": \"Linear Learner\", \"Host\": \"algo-1\", \"Operation\": \"training\", \"epoch\": 1, \"model\": 16}, \"Metrics\": {\"train_binary_classification_cross_entropy_objective\": {\"sum\": 0.5259566800798688, \"count\": 1, \"min\": 0.5259566800798688, \"max\": 0.5259566800798688}}}\u001b[0m\n",
      "\u001b[34m#metrics {\"StartTime\": 1698784269.0846598, \"EndTime\": 1698784269.0846758, \"Dimensions\": {\"Algorithm\": \"Linear Learner\", \"Host\": \"algo-1\", \"Operation\": \"training\", \"epoch\": 1, \"model\": 17}, \"Metrics\": {\"train_binary_classification_cross_entropy_objective\": {\"sum\": 0.5260957369995117, \"count\": 1, \"min\": 0.5260957369995117, \"max\": 0.5260957369995117}}}\u001b[0m\n",
      "\u001b[34m#metrics {\"StartTime\": 1698784269.0847597, \"EndTime\": 1698784269.0847762, \"Dimensions\": {\"Algorithm\": \"Linear Learner\", \"Host\": \"algo-1\", \"Operation\": \"training\", \"epoch\": 1, \"model\": 18}, \"Metrics\": {\"train_binary_classification_cross_entropy_objective\": {\"sum\": 0.5259562343924387, \"count\": 1, \"min\": 0.5259562343924387, \"max\": 0.5259562343924387}}}\u001b[0m\n",
      "\u001b[34m#metrics {\"StartTime\": 1698784269.0848444, \"EndTime\": 1698784269.0848594, \"Dimensions\": {\"Algorithm\": \"Linear Learner\", \"Host\": \"algo-1\", \"Operation\": \"training\", \"epoch\": 1, \"model\": 19}, \"Metrics\": {\"train_binary_classification_cross_entropy_objective\": {\"sum\": 0.5260952532087053, \"count\": 1, \"min\": 0.5260952532087053, \"max\": 0.5260952532087053}}}\u001b[0m\n",
      "\u001b[34m#metrics {\"StartTime\": 1698784269.0849304, \"EndTime\": 1698784269.084944, \"Dimensions\": {\"Algorithm\": \"Linear Learner\", \"Host\": \"algo-1\", \"Operation\": \"training\", \"epoch\": 1, \"model\": 20}, \"Metrics\": {\"train_binary_classification_cross_entropy_objective\": {\"sum\": 0.5274987217058454, \"count\": 1, \"min\": 0.5274987217058454, \"max\": 0.5274987217058454}}}\u001b[0m\n",
      "\u001b[34m#metrics {\"StartTime\": 1698784269.0850127, \"EndTime\": 1698784269.0850267, \"Dimensions\": {\"Algorithm\": \"Linear Learner\", \"Host\": \"algo-1\", \"Operation\": \"training\", \"epoch\": 1, \"model\": 21}, \"Metrics\": {\"train_binary_classification_cross_entropy_objective\": {\"sum\": 0.5296055422101702, \"count\": 1, \"min\": 0.5296055422101702, \"max\": 0.5296055422101702}}}\u001b[0m\n",
      "\u001b[34m#metrics {\"StartTime\": 1698784269.085099, \"EndTime\": 1698784269.085113, \"Dimensions\": {\"Algorithm\": \"Linear Learner\", \"Host\": \"algo-1\", \"Operation\": \"training\", \"epoch\": 1, \"model\": 22}, \"Metrics\": {\"train_binary_classification_cross_entropy_objective\": {\"sum\": 0.5274983478219168, \"count\": 1, \"min\": 0.5274983478219168, \"max\": 0.5274983478219168}}}\u001b[0m\n",
      "\u001b[34m#metrics {\"StartTime\": 1698784269.0851853, \"EndTime\": 1698784269.0851998, \"Dimensions\": {\"Algorithm\": \"Linear Learner\", \"Host\": \"algo-1\", \"Operation\": \"training\", \"epoch\": 1, \"model\": 23}, \"Metrics\": {\"train_binary_classification_cross_entropy_objective\": {\"sum\": 0.5296092646135603, \"count\": 1, \"min\": 0.5296092646135603, \"max\": 0.5296092646135603}}}\u001b[0m\n",
      "\u001b[34m#metrics {\"StartTime\": 1698784269.0853, \"EndTime\": 1698784269.0853162, \"Dimensions\": {\"Algorithm\": \"Linear Learner\", \"Host\": \"algo-1\", \"Operation\": \"training\", \"epoch\": 1, \"model\": 24}, \"Metrics\": {\"train_binary_classification_cross_entropy_objective\": {\"sum\": 0.5292452947998046, \"count\": 1, \"min\": 0.5292452947998046, \"max\": 0.5292452947998046}}}\u001b[0m\n",
      "\u001b[34m#metrics {\"StartTime\": 1698784269.0853865, \"EndTime\": 1698784269.085401, \"Dimensions\": {\"Algorithm\": \"Linear Learner\", \"Host\": \"algo-1\", \"Operation\": \"training\", \"epoch\": 1, \"model\": 25}, \"Metrics\": {\"train_binary_classification_cross_entropy_objective\": {\"sum\": 0.5292971935599191, \"count\": 1, \"min\": 0.5292971935599191, \"max\": 0.5292971935599191}}}\u001b[0m\n",
      "\u001b[34m#metrics {\"StartTime\": 1698784269.085472, \"EndTime\": 1698784269.0854871, \"Dimensions\": {\"Algorithm\": \"Linear Learner\", \"Host\": \"algo-1\", \"Operation\": \"training\", \"epoch\": 1, \"model\": 26}, \"Metrics\": {\"train_binary_classification_cross_entropy_objective\": {\"sum\": 0.5292446097673689, \"count\": 1, \"min\": 0.5292446097673689, \"max\": 0.5292446097673689}}}\u001b[0m\n",
      "\u001b[34m#metrics {\"StartTime\": 1698784269.0855556, \"EndTime\": 1698784269.0855696, \"Dimensions\": {\"Algorithm\": \"Linear Learner\", \"Host\": \"algo-1\", \"Operation\": \"training\", \"epoch\": 1, \"model\": 27}, \"Metrics\": {\"train_binary_classification_cross_entropy_objective\": {\"sum\": 0.5292959259469169, \"count\": 1, \"min\": 0.5292959259469169, \"max\": 0.5292959259469169}}}\u001b[0m\n",
      "\u001b[34m#metrics {\"StartTime\": 1698784269.0856433, \"EndTime\": 1698784269.0856583, \"Dimensions\": {\"Algorithm\": \"Linear Learner\", \"Host\": \"algo-1\", \"Operation\": \"training\", \"epoch\": 1, \"model\": 28}, \"Metrics\": {\"train_binary_classification_cross_entropy_objective\": {\"sum\": 0.5299390949358259, \"count\": 1, \"min\": 0.5299390949358259, \"max\": 0.5299390949358259}}}\u001b[0m\n",
      "\u001b[34m#metrics {\"StartTime\": 1698784269.0857282, \"EndTime\": 1698784269.0857425, \"Dimensions\": {\"Algorithm\": \"Linear Learner\", \"Host\": \"algo-1\", \"Operation\": \"training\", \"epoch\": 1, \"model\": 29}, \"Metrics\": {\"train_binary_classification_cross_entropy_objective\": {\"sum\": 0.5308238579014369, \"count\": 1, \"min\": 0.5308238579014369, \"max\": 0.5308238579014369}}}\u001b[0m\n",
      "\u001b[34m#metrics {\"StartTime\": 1698784269.0858133, \"EndTime\": 1698784269.0858269, \"Dimensions\": {\"Algorithm\": \"Linear Learner\", \"Host\": \"algo-1\", \"Operation\": \"training\", \"epoch\": 1, \"model\": 30}, \"Metrics\": {\"train_binary_classification_cross_entropy_objective\": {\"sum\": 0.5299396762520926, \"count\": 1, \"min\": 0.5299396762520926, \"max\": 0.5299396762520926}}}\u001b[0m\n",
      "\u001b[34m#metrics {\"StartTime\": 1698784269.0858958, \"EndTime\": 1698784269.0859103, \"Dimensions\": {\"Algorithm\": \"Linear Learner\", \"Host\": \"algo-1\", \"Operation\": \"training\", \"epoch\": 1, \"model\": 31}, \"Metrics\": {\"train_binary_classification_cross_entropy_objective\": {\"sum\": 0.5308163893345424, \"count\": 1, \"min\": 0.5308163893345424, \"max\": 0.5308163893345424}}}\u001b[0m\n",
      "\u001b[34m[10/31/2023 20:31:09 INFO 139963066464064] #quality_metric: host=algo-1, epoch=1, train binary_classification_cross_entropy_objective <loss>=0.518205325578962\u001b[0m\n",
      "\u001b[34m#metrics {\"StartTime\": 1698784275.9222908, \"EndTime\": 1698784275.9223833, \"Dimensions\": {\"Algorithm\": \"Linear Learner\", \"Host\": \"algo-1\", \"Operation\": \"training\", \"epoch\": 1, \"model\": 0}, \"Metrics\": {\"validation_binary_classification_cross_entropy_objective\": {\"sum\": 0.5173500435384114, \"count\": 1, \"min\": 0.5173500435384114, \"max\": 0.5173500435384114}}}\u001b[0m\n",
      "\u001b[34m#metrics {\"StartTime\": 1698784275.922715, \"EndTime\": 1698784275.9227457, \"Dimensions\": {\"Algorithm\": \"Linear Learner\", \"Host\": \"algo-1\", \"Operation\": \"training\", \"epoch\": 1, \"model\": 1}, \"Metrics\": {\"validation_binary_classification_cross_entropy_objective\": {\"sum\": 0.5180975756835937, \"count\": 1, \"min\": 0.5180975756835937, \"max\": 0.5180975756835937}}}\u001b[0m\n",
      "\u001b[34m#metrics {\"StartTime\": 1698784275.9228487, \"EndTime\": 1698784275.9228647, \"Dimensions\": {\"Algorithm\": \"Linear Learner\", \"Host\": \"algo-1\", \"Operation\": \"training\", \"epoch\": 1, \"model\": 2}, \"Metrics\": {\"validation_binary_classification_cross_entropy_objective\": {\"sum\": 0.5173548445638021, \"count\": 1, \"min\": 0.5173548445638021, \"max\": 0.5173548445638021}}}\u001b[0m\n",
      "\u001b[34m#metrics {\"StartTime\": 1698784275.92291, \"EndTime\": 1698784275.9229212, \"Dimensions\": {\"Algorithm\": \"Linear Learner\", \"Host\": \"algo-1\", \"Operation\": \"training\", \"epoch\": 1, \"model\": 3}, \"Metrics\": {\"validation_binary_classification_cross_entropy_objective\": {\"sum\": 0.5180987666829427, \"count\": 1, \"min\": 0.5180987666829427, \"max\": 0.5180987666829427}}}\u001b[0m\n",
      "\u001b[34m#metrics {\"StartTime\": 1698784275.9229565, \"EndTime\": 1698784275.9229658, \"Dimensions\": {\"Algorithm\": \"Linear Learner\", \"Host\": \"algo-1\", \"Operation\": \"training\", \"epoch\": 1, \"model\": 4}, \"Metrics\": {\"validation_binary_classification_cross_entropy_objective\": {\"sum\": 0.5238415498860677, \"count\": 1, \"min\": 0.5238415498860677, \"max\": 0.5238415498860677}}}\u001b[0m\n",
      "\u001b[34m#metrics {\"StartTime\": 1698784275.923, \"EndTime\": 1698784275.9230103, \"Dimensions\": {\"Algorithm\": \"Linear Learner\", \"Host\": \"algo-1\", \"Operation\": \"training\", \"epoch\": 1, \"model\": 5}, \"Metrics\": {\"validation_binary_classification_cross_entropy_objective\": {\"sum\": 0.5392755458577474, \"count\": 1, \"min\": 0.5392755458577474, \"max\": 0.5392755458577474}}}\u001b[0m\n",
      "\u001b[34m#metrics {\"StartTime\": 1698784275.9230611, \"EndTime\": 1698784275.9230738, \"Dimensions\": {\"Algorithm\": \"Linear Learner\", \"Host\": \"algo-1\", \"Operation\": \"training\", \"epoch\": 1, \"model\": 6}, \"Metrics\": {\"validation_binary_classification_cross_entropy_objective\": {\"sum\": 0.5238439912923177, \"count\": 1, \"min\": 0.5238439912923177, \"max\": 0.5238439912923177}}}\u001b[0m\n",
      "\u001b[34m#metrics {\"StartTime\": 1698784275.9231489, \"EndTime\": 1698784275.9231622, \"Dimensions\": {\"Algorithm\": \"Linear Learner\", \"Host\": \"algo-1\", \"Operation\": \"training\", \"epoch\": 1, \"model\": 7}, \"Metrics\": {\"validation_binary_classification_cross_entropy_objective\": {\"sum\": 0.53927994140625, \"count\": 1, \"min\": 0.53927994140625, \"max\": 0.53927994140625}}}\u001b[0m\n",
      "\u001b[34m#metrics {\"StartTime\": 1698784275.923217, \"EndTime\": 1698784275.9232292, \"Dimensions\": {\"Algorithm\": \"Linear Learner\", \"Host\": \"algo-1\", \"Operation\": \"training\", \"epoch\": 1, \"model\": 8}, \"Metrics\": {\"validation_binary_classification_cross_entropy_objective\": {\"sum\": 0.5174199997965495, \"count\": 1, \"min\": 0.5174199997965495, \"max\": 0.5174199997965495}}}\u001b[0m\n",
      "\u001b[34m#metrics {\"StartTime\": 1698784275.9232998, \"EndTime\": 1698784275.9233127, \"Dimensions\": {\"Algorithm\": \"Linear Learner\", \"Host\": \"algo-1\", \"Operation\": \"training\", \"epoch\": 1, \"model\": 9}, \"Metrics\": {\"validation_binary_classification_cross_entropy_objective\": {\"sum\": 0.5181799686686198, \"count\": 1, \"min\": 0.5181799686686198, \"max\": 0.5181799686686198}}}\u001b[0m\n",
      "\u001b[34m#metrics {\"StartTime\": 1698784275.9233658, \"EndTime\": 1698784275.923413, \"Dimensions\": {\"Algorithm\": \"Linear Learner\", \"Host\": \"algo-1\", \"Operation\": \"training\", \"epoch\": 1, \"model\": 10}, \"Metrics\": {\"validation_binary_classification_cross_entropy_objective\": {\"sum\": 0.5174194374593098, \"count\": 1, \"min\": 0.5174194374593098, \"max\": 0.5174194374593098}}}\u001b[0m\n",
      "\u001b[34m#metrics {\"StartTime\": 1698784275.9234734, \"EndTime\": 1698784275.9234865, \"Dimensions\": {\"Algorithm\": \"Linear Learner\", \"Host\": \"algo-1\", \"Operation\": \"training\", \"epoch\": 1, \"model\": 11}, \"Metrics\": {\"validation_binary_classification_cross_entropy_objective\": {\"sum\": 0.5181801839192708, \"count\": 1, \"min\": 0.5181801839192708, \"max\": 0.5181801839192708}}}\u001b[0m\n",
      "\u001b[34m#metrics {\"StartTime\": 1698784275.9235566, \"EndTime\": 1698784275.92357, \"Dimensions\": {\"Algorithm\": \"Linear Learner\", \"Host\": \"algo-1\", \"Operation\": \"training\", \"epoch\": 1, \"model\": 12}, \"Metrics\": {\"validation_binary_classification_cross_entropy_objective\": {\"sum\": 0.5238688360595704, \"count\": 1, \"min\": 0.5238688360595704, \"max\": 0.5238688360595704}}}\u001b[0m\n",
      "\u001b[34m#metrics {\"StartTime\": 1698784275.9236083, \"EndTime\": 1698784275.9236186, \"Dimensions\": {\"Algorithm\": \"Linear Learner\", \"Host\": \"algo-1\", \"Operation\": \"training\", \"epoch\": 1, \"model\": 13}, \"Metrics\": {\"validation_binary_classification_cross_entropy_objective\": {\"sum\": 0.5384164198811849, \"count\": 1, \"min\": 0.5384164198811849, \"max\": 0.5384164198811849}}}\u001b[0m\n",
      "\u001b[34m#metrics {\"StartTime\": 1698784275.9236534, \"EndTime\": 1698784275.9236636, \"Dimensions\": {\"Algorithm\": \"Linear Learner\", \"Host\": \"algo-1\", \"Operation\": \"training\", \"epoch\": 1, \"model\": 14}, \"Metrics\": {\"validation_binary_classification_cross_entropy_objective\": {\"sum\": 0.5238707527669271, \"count\": 1, \"min\": 0.5238707527669271, \"max\": 0.5238707527669271}}}\u001b[0m\n",
      "\u001b[34m#metrics {\"StartTime\": 1698784275.923699, \"EndTime\": 1698784275.9237092, \"Dimensions\": {\"Algorithm\": \"Linear Learner\", \"Host\": \"algo-1\", \"Operation\": \"training\", \"epoch\": 1, \"model\": 15}, \"Metrics\": {\"validation_binary_classification_cross_entropy_objective\": {\"sum\": 0.5384093326822916, \"count\": 1, \"min\": 0.5384093326822916, \"max\": 0.5384093326822916}}}\u001b[0m\n",
      "\u001b[34m#metrics {\"StartTime\": 1698784275.9237444, \"EndTime\": 1698784275.9237545, \"Dimensions\": {\"Algorithm\": \"Linear Learner\", \"Host\": \"algo-1\", \"Operation\": \"training\", \"epoch\": 1, \"model\": 16}, \"Metrics\": {\"validation_binary_classification_cross_entropy_objective\": {\"sum\": 0.5250332979329427, \"count\": 1, \"min\": 0.5250332979329427, \"max\": 0.5250332979329427}}}\u001b[0m\n",
      "\u001b[34m#metrics {\"StartTime\": 1698784275.923791, \"EndTime\": 1698784275.9238005, \"Dimensions\": {\"Algorithm\": \"Linear Learner\", \"Host\": \"algo-1\", \"Operation\": \"training\", \"epoch\": 1, \"model\": 17}, \"Metrics\": {\"validation_binary_classification_cross_entropy_objective\": {\"sum\": 0.5256250726318359, \"count\": 1, \"min\": 0.5256250726318359, \"max\": 0.5256250726318359}}}\u001b[0m\n",
      "\u001b[34m#metrics {\"StartTime\": 1698784275.9238365, \"EndTime\": 1698784275.9238465, \"Dimensions\": {\"Algorithm\": \"Linear Learner\", \"Host\": \"algo-1\", \"Operation\": \"training\", \"epoch\": 1, \"model\": 18}, \"Metrics\": {\"validation_binary_classification_cross_entropy_objective\": {\"sum\": 0.5250356701660156, \"count\": 1, \"min\": 0.5250356701660156, \"max\": 0.5250356701660156}}}\u001b[0m\n",
      "\u001b[34m#metrics {\"StartTime\": 1698784275.9238825, \"EndTime\": 1698784275.9238925, \"Dimensions\": {\"Algorithm\": \"Linear Learner\", \"Host\": \"algo-1\", \"Operation\": \"training\", \"epoch\": 1, \"model\": 19}, \"Metrics\": {\"validation_binary_classification_cross_entropy_objective\": {\"sum\": 0.525626870320638, \"count\": 1, \"min\": 0.525626870320638, \"max\": 0.525626870320638}}}\u001b[0m\n",
      "\u001b[34m#metrics {\"StartTime\": 1698784275.923928, \"EndTime\": 1698784275.9239385, \"Dimensions\": {\"Algorithm\": \"Linear Learner\", \"Host\": \"algo-1\", \"Operation\": \"training\", \"epoch\": 1, \"model\": 20}, \"Metrics\": {\"validation_binary_classification_cross_entropy_objective\": {\"sum\": 0.5261679901123046, \"count\": 1, \"min\": 0.5261679901123046, \"max\": 0.5261679901123046}}}\u001b[0m\n",
      "\u001b[34m#metrics {\"StartTime\": 1698784275.9239748, \"EndTime\": 1698784275.9239843, \"Dimensions\": {\"Algorithm\": \"Linear Learner\", \"Host\": \"algo-1\", \"Operation\": \"training\", \"epoch\": 1, \"model\": 21}, \"Metrics\": {\"validation_binary_classification_cross_entropy_objective\": {\"sum\": 0.5279444024658203, \"count\": 1, \"min\": 0.5279444024658203, \"max\": 0.5279444024658203}}}\u001b[0m\n",
      "\u001b[34m#metrics {\"StartTime\": 1698784275.924019, \"EndTime\": 1698784275.9240286, \"Dimensions\": {\"Algorithm\": \"Linear Learner\", \"Host\": \"algo-1\", \"Operation\": \"training\", \"epoch\": 1, \"model\": 22}, \"Metrics\": {\"validation_binary_classification_cross_entropy_objective\": {\"sum\": 0.5261717236328125, \"count\": 1, \"min\": 0.5261717236328125, \"max\": 0.5261717236328125}}}\u001b[0m\n",
      "\u001b[34m#metrics {\"StartTime\": 1698784275.9240623, \"EndTime\": 1698784275.9240725, \"Dimensions\": {\"Algorithm\": \"Linear Learner\", \"Host\": \"algo-1\", \"Operation\": \"training\", \"epoch\": 1, \"model\": 23}, \"Metrics\": {\"validation_binary_classification_cross_entropy_objective\": {\"sum\": 0.5279254341634114, \"count\": 1, \"min\": 0.5279254341634114, \"max\": 0.5279254341634114}}}\u001b[0m\n",
      "\u001b[34m#metrics {\"StartTime\": 1698784275.924107, \"EndTime\": 1698784275.9241164, \"Dimensions\": {\"Algorithm\": \"Linear Learner\", \"Host\": \"algo-1\", \"Operation\": \"training\", \"epoch\": 1, \"model\": 24}, \"Metrics\": {\"validation_binary_classification_cross_entropy_objective\": {\"sum\": 0.5281423805745443, \"count\": 1, \"min\": 0.5281423805745443, \"max\": 0.5281423805745443}}}\u001b[0m\n",
      "\u001b[34m#metrics {\"StartTime\": 1698784275.924152, \"EndTime\": 1698784275.924162, \"Dimensions\": {\"Algorithm\": \"Linear Learner\", \"Host\": \"algo-1\", \"Operation\": \"training\", \"epoch\": 1, \"model\": 25}, \"Metrics\": {\"validation_binary_classification_cross_entropy_objective\": {\"sum\": 0.5282700561523438, \"count\": 1, \"min\": 0.5282700561523438, \"max\": 0.5282700561523438}}}\u001b[0m\n",
      "\u001b[34m#metrics {\"StartTime\": 1698784275.9241982, \"EndTime\": 1698784275.9242086, \"Dimensions\": {\"Algorithm\": \"Linear Learner\", \"Host\": \"algo-1\", \"Operation\": \"training\", \"epoch\": 1, \"model\": 26}, \"Metrics\": {\"validation_binary_classification_cross_entropy_objective\": {\"sum\": 0.5281537587483724, \"count\": 1, \"min\": 0.5281537587483724, \"max\": 0.5281537587483724}}}\u001b[0m\n",
      "\u001b[34m#metrics {\"StartTime\": 1698784275.9242797, \"EndTime\": 1698784275.9242954, \"Dimensions\": {\"Algorithm\": \"Linear Learner\", \"Host\": \"algo-1\", \"Operation\": \"training\", \"epoch\": 1, \"model\": 27}, \"Metrics\": {\"validation_binary_classification_cross_entropy_objective\": {\"sum\": 0.528275390625, \"count\": 1, \"min\": 0.528275390625, \"max\": 0.528275390625}}}\u001b[0m\n",
      "\u001b[34m#metrics {\"StartTime\": 1698784275.9243393, \"EndTime\": 1698784275.9243803, \"Dimensions\": {\"Algorithm\": \"Linear Learner\", \"Host\": \"algo-1\", \"Operation\": \"training\", \"epoch\": 1, \"model\": 28}, \"Metrics\": {\"validation_binary_classification_cross_entropy_objective\": {\"sum\": 0.5282605401611328, \"count\": 1, \"min\": 0.5282605401611328, \"max\": 0.5282605401611328}}}\u001b[0m\n",
      "\u001b[34m#metrics {\"StartTime\": 1698784275.9244242, \"EndTime\": 1698784275.9244356, \"Dimensions\": {\"Algorithm\": \"Linear Learner\", \"Host\": \"algo-1\", \"Operation\": \"training\", \"epoch\": 1, \"model\": 29}, \"Metrics\": {\"validation_binary_classification_cross_entropy_objective\": {\"sum\": 0.5290392417399089, \"count\": 1, \"min\": 0.5290392417399089, \"max\": 0.5290392417399089}}}\u001b[0m\n",
      "\u001b[34m#metrics {\"StartTime\": 1698784275.9244723, \"EndTime\": 1698784275.9244826, \"Dimensions\": {\"Algorithm\": \"Linear Learner\", \"Host\": \"algo-1\", \"Operation\": \"training\", \"epoch\": 1, \"model\": 30}, \"Metrics\": {\"validation_binary_classification_cross_entropy_objective\": {\"sum\": 0.5282576361083985, \"count\": 1, \"min\": 0.5282576361083985, \"max\": 0.5282576361083985}}}\u001b[0m\n",
      "\u001b[34m#metrics {\"StartTime\": 1698784275.9245186, \"EndTime\": 1698784275.9245286, \"Dimensions\": {\"Algorithm\": \"Linear Learner\", \"Host\": \"algo-1\", \"Operation\": \"training\", \"epoch\": 1, \"model\": 31}, \"Metrics\": {\"validation_binary_classification_cross_entropy_objective\": {\"sum\": 0.5290817958577474, \"count\": 1, \"min\": 0.5290817958577474, \"max\": 0.5290817958577474}}}\u001b[0m\n",
      "\u001b[34m[10/31/2023 20:31:15 INFO 139963066464064] #quality_metric: host=algo-1, epoch=1, validation binary_classification_cross_entropy_objective <loss>=0.5173500435384114\u001b[0m\n",
      "\u001b[34m[10/31/2023 20:31:15 INFO 139963066464064] #early_stopping_criteria_metric: host=algo-1, epoch=1, criteria=sampled_accuracy, value=0.7790666666666669\u001b[0m\n",
      "\u001b[34m[10/31/2023 20:31:15 INFO 139963066464064] Epoch 1: Loss improved. Updating best model\u001b[0m\n",
      "\u001b[34m[10/31/2023 20:31:15 INFO 139963066464064] Saving model for epoch: 1\u001b[0m\n",
      "\u001b[34m[10/31/2023 20:31:15 INFO 139963066464064] Saved checkpoint to \"/tmp/tmpqm33_z36/mx-mod-0000.params\"\u001b[0m\n",
      "\u001b[34m[10/31/2023 20:31:15 INFO 139963066464064] #progress_metric: host=algo-1, completed 66.66666666666667 % of epochs\u001b[0m\n",
      "\u001b[34m#metrics {\"StartTime\": 1698784240.881561, \"EndTime\": 1698784275.9314084, \"Dimensions\": {\"Algorithm\": \"Linear Learner\", \"Host\": \"algo-1\", \"Operation\": \"training\", \"epoch\": 1, \"Meta\": \"training_data_iter\"}, \"Metrics\": {\"Total Records Seen\": {\"sum\": 1412000.0, \"count\": 1, \"min\": 1412000, \"max\": 1412000}, \"Total Batches Seen\": {\"sum\": 1412.0, \"count\": 1, \"min\": 1412, \"max\": 1412}, \"Max Records Seen Between Resets\": {\"sum\": 700000.0, \"count\": 1, \"min\": 700000, \"max\": 700000}, \"Max Batches Seen Between Resets\": {\"sum\": 700.0, \"count\": 1, \"min\": 700, \"max\": 700}, \"Reset Count\": {\"sum\": 4.0, \"count\": 1, \"min\": 4, \"max\": 4}, \"Number of Records Since Last Reset\": {\"sum\": 700000.0, \"count\": 1, \"min\": 700000, \"max\": 700000}, \"Number of Batches Since Last Reset\": {\"sum\": 700.0, \"count\": 1, \"min\": 700, \"max\": 700}}}\u001b[0m\n",
      "\u001b[34m[10/31/2023 20:31:15 INFO 139963066464064] #throughput_metric: host=algo-1, train throughput=19971.477236046943 records/second\u001b[0m\n",
      "\u001b[34m#metrics {\"StartTime\": 1698784303.36786, \"EndTime\": 1698784303.367916, \"Dimensions\": {\"Algorithm\": \"Linear Learner\", \"Host\": \"algo-1\", \"Operation\": \"training\", \"epoch\": 2, \"model\": 0}, \"Metrics\": {\"train_binary_classification_cross_entropy_objective\": {\"sum\": 0.5179798993791853, \"count\": 1, \"min\": 0.5179798993791853, \"max\": 0.5179798993791853}}}\u001b[0m\n",
      "\u001b[34m#metrics {\"StartTime\": 1698784303.3679879, \"EndTime\": 1698784303.368001, \"Dimensions\": {\"Algorithm\": \"Linear Learner\", \"Host\": \"algo-1\", \"Operation\": \"training\", \"epoch\": 2, \"model\": 1}, \"Metrics\": {\"train_binary_classification_cross_entropy_objective\": {\"sum\": 0.5188374462890625, \"count\": 1, \"min\": 0.5188374462890625, \"max\": 0.5188374462890625}}}\u001b[0m\n",
      "\u001b[34m#metrics {\"StartTime\": 1698784303.368242, \"EndTime\": 1698784303.3682995, \"Dimensions\": {\"Algorithm\": \"Linear Learner\", \"Host\": \"algo-1\", \"Operation\": \"training\", \"epoch\": 2, \"model\": 2}, \"Metrics\": {\"train_binary_classification_cross_entropy_objective\": {\"sum\": 0.5179793225533622, \"count\": 1, \"min\": 0.5179793225533622, \"max\": 0.5179793225533622}}}\u001b[0m\n",
      "\u001b[34m#metrics {\"StartTime\": 1698784303.3683808, \"EndTime\": 1698784303.3683996, \"Dimensions\": {\"Algorithm\": \"Linear Learner\", \"Host\": \"algo-1\", \"Operation\": \"training\", \"epoch\": 2, \"model\": 3}, \"Metrics\": {\"train_binary_classification_cross_entropy_objective\": {\"sum\": 0.5188377298845563, \"count\": 1, \"min\": 0.5188377298845563, \"max\": 0.5188377298845563}}}\u001b[0m\n",
      "\u001b[34m#metrics {\"StartTime\": 1698784303.3684764, \"EndTime\": 1698784303.3684933, \"Dimensions\": {\"Algorithm\": \"Linear Learner\", \"Host\": \"algo-1\", \"Operation\": \"training\", \"epoch\": 2, \"model\": 4}, \"Metrics\": {\"train_binary_classification_cross_entropy_objective\": {\"sum\": 0.5219136630684988, \"count\": 1, \"min\": 0.5219136630684988, \"max\": 0.5219136630684988}}}\u001b[0m\n",
      "\u001b[34m#metrics {\"StartTime\": 1698784303.3685696, \"EndTime\": 1698784303.3685842, \"Dimensions\": {\"Algorithm\": \"Linear Learner\", \"Host\": \"algo-1\", \"Operation\": \"training\", \"epoch\": 2, \"model\": 5}, \"Metrics\": {\"train_binary_classification_cross_entropy_objective\": {\"sum\": 0.5359765226527623, \"count\": 1, \"min\": 0.5359765226527623, \"max\": 0.5359765226527623}}}\u001b[0m\n",
      "\u001b[34m#metrics {\"StartTime\": 1698784303.368725, \"EndTime\": 1698784303.3687437, \"Dimensions\": {\"Algorithm\": \"Linear Learner\", \"Host\": \"algo-1\", \"Operation\": \"training\", \"epoch\": 2, \"model\": 6}, \"Metrics\": {\"train_binary_classification_cross_entropy_objective\": {\"sum\": 0.5219135277448381, \"count\": 1, \"min\": 0.5219135277448381, \"max\": 0.5219135277448381}}}\u001b[0m\n",
      "\u001b[34m#metrics {\"StartTime\": 1698784303.368827, \"EndTime\": 1698784303.3688679, \"Dimensions\": {\"Algorithm\": \"Linear Learner\", \"Host\": \"algo-1\", \"Operation\": \"training\", \"epoch\": 2, \"model\": 7}, \"Metrics\": {\"train_binary_classification_cross_entropy_objective\": {\"sum\": 0.5359782373482841, \"count\": 1, \"min\": 0.5359782373482841, \"max\": 0.5359782373482841}}}\u001b[0m\n",
      "\u001b[34m#metrics {\"StartTime\": 1698784303.3689406, \"EndTime\": 1698784303.3689575, \"Dimensions\": {\"Algorithm\": \"Linear Learner\", \"Host\": \"algo-1\", \"Operation\": \"training\", \"epoch\": 2, \"model\": 8}, \"Metrics\": {\"train_binary_classification_cross_entropy_objective\": {\"sum\": 0.5180814372471401, \"count\": 1, \"min\": 0.5180814372471401, \"max\": 0.5180814372471401}}}\u001b[0m\n",
      "\u001b[34m#metrics {\"StartTime\": 1698784303.3690321, \"EndTime\": 1698784303.3690464, \"Dimensions\": {\"Algorithm\": \"Linear Learner\", \"Host\": \"algo-1\", \"Operation\": \"training\", \"epoch\": 2, \"model\": 9}, \"Metrics\": {\"train_binary_classification_cross_entropy_objective\": {\"sum\": 0.5189013460867745, \"count\": 1, \"min\": 0.5189013460867745, \"max\": 0.5189013460867745}}}\u001b[0m\n",
      "\u001b[34m#metrics {\"StartTime\": 1698784303.3691149, \"EndTime\": 1698784303.3691294, \"Dimensions\": {\"Algorithm\": \"Linear Learner\", \"Host\": \"algo-1\", \"Operation\": \"training\", \"epoch\": 2, \"model\": 10}, \"Metrics\": {\"train_binary_classification_cross_entropy_objective\": {\"sum\": 0.5180813505772182, \"count\": 1, \"min\": 0.5180813505772182, \"max\": 0.5180813505772182}}}\u001b[0m\n",
      "\u001b[34m#metrics {\"StartTime\": 1698784303.3691936, \"EndTime\": 1698784303.3692262, \"Dimensions\": {\"Algorithm\": \"Linear Learner\", \"Host\": \"algo-1\", \"Operation\": \"training\", \"epoch\": 2, \"model\": 11}, \"Metrics\": {\"train_binary_classification_cross_entropy_objective\": {\"sum\": 0.5189013619995118, \"count\": 1, \"min\": 0.5189013619995118, \"max\": 0.5189013619995118}}}\u001b[0m\n",
      "\u001b[34m#metrics {\"StartTime\": 1698784303.369313, \"EndTime\": 1698784303.3693292, \"Dimensions\": {\"Algorithm\": \"Linear Learner\", \"Host\": \"algo-1\", \"Operation\": \"training\", \"epoch\": 2, \"model\": 12}, \"Metrics\": {\"train_binary_classification_cross_entropy_objective\": {\"sum\": 0.5217942885480609, \"count\": 1, \"min\": 0.5217942885480609, \"max\": 0.5217942885480609}}}\u001b[0m\n",
      "\u001b[34m#metrics {\"StartTime\": 1698784303.3694055, \"EndTime\": 1698784303.3694224, \"Dimensions\": {\"Algorithm\": \"Linear Learner\", \"Host\": \"algo-1\", \"Operation\": \"training\", \"epoch\": 2, \"model\": 13}, \"Metrics\": {\"train_binary_classification_cross_entropy_objective\": {\"sum\": 0.5349959881155831, \"count\": 1, \"min\": 0.5349959881155831, \"max\": 0.5349959881155831}}}\u001b[0m\n",
      "\u001b[34m#metrics {\"StartTime\": 1698784303.3694956, \"EndTime\": 1698784303.3695097, \"Dimensions\": {\"Algorithm\": \"Linear Learner\", \"Host\": \"algo-1\", \"Operation\": \"training\", \"epoch\": 2, \"model\": 14}, \"Metrics\": {\"train_binary_classification_cross_entropy_objective\": {\"sum\": 0.521795022757394, \"count\": 1, \"min\": 0.521795022757394, \"max\": 0.521795022757394}}}\u001b[0m\n",
      "\u001b[34m#metrics {\"StartTime\": 1698784303.369574, \"EndTime\": 1698784303.3695889, \"Dimensions\": {\"Algorithm\": \"Linear Learner\", \"Host\": \"algo-1\", \"Operation\": \"training\", \"epoch\": 2, \"model\": 15}, \"Metrics\": {\"train_binary_classification_cross_entropy_objective\": {\"sum\": 0.5349953228759765, \"count\": 1, \"min\": 0.5349953228759765, \"max\": 0.5349953228759765}}}\u001b[0m\n",
      "\u001b[34m#metrics {\"StartTime\": 1698784303.3696501, \"EndTime\": 1698784303.3696656, \"Dimensions\": {\"Algorithm\": \"Linear Learner\", \"Host\": \"algo-1\", \"Operation\": \"training\", \"epoch\": 2, \"model\": 16}, \"Metrics\": {\"train_binary_classification_cross_entropy_objective\": {\"sum\": 0.5259182604108538, \"count\": 1, \"min\": 0.5259182604108538, \"max\": 0.5259182604108538}}}\u001b[0m\n",
      "\u001b[34m#metrics {\"StartTime\": 1698784303.3697398, \"EndTime\": 1698784303.3697765, \"Dimensions\": {\"Algorithm\": \"Linear Learner\", \"Host\": \"algo-1\", \"Operation\": \"training\", \"epoch\": 2, \"model\": 17}, \"Metrics\": {\"train_binary_classification_cross_entropy_objective\": {\"sum\": 0.5261047879900251, \"count\": 1, \"min\": 0.5261047879900251, \"max\": 0.5261047879900251}}}\u001b[0m\n",
      "\u001b[34m#metrics {\"StartTime\": 1698784303.369829, \"EndTime\": 1698784303.3698668, \"Dimensions\": {\"Algorithm\": \"Linear Learner\", \"Host\": \"algo-1\", \"Operation\": \"training\", \"epoch\": 2, \"model\": 18}, \"Metrics\": {\"train_binary_classification_cross_entropy_objective\": {\"sum\": 0.5259183510044643, \"count\": 1, \"min\": 0.5259183510044643, \"max\": 0.5259183510044643}}}\u001b[0m\n",
      "\u001b[34m#metrics {\"StartTime\": 1698784303.3699389, \"EndTime\": 1698784303.3699558, \"Dimensions\": {\"Algorithm\": \"Linear Learner\", \"Host\": \"algo-1\", \"Operation\": \"training\", \"epoch\": 2, \"model\": 19}, \"Metrics\": {\"train_binary_classification_cross_entropy_objective\": {\"sum\": 0.5261046416364398, \"count\": 1, \"min\": 0.5261046416364398, \"max\": 0.5261046416364398}}}\u001b[0m\n",
      "\u001b[34m#metrics {\"StartTime\": 1698784303.3700256, \"EndTime\": 1698784303.3700402, \"Dimensions\": {\"Algorithm\": \"Linear Learner\", \"Host\": \"algo-1\", \"Operation\": \"training\", \"epoch\": 2, \"model\": 20}, \"Metrics\": {\"train_binary_classification_cross_entropy_objective\": {\"sum\": 0.5266953898402623, \"count\": 1, \"min\": 0.5266953898402623, \"max\": 0.5266953898402623}}}\u001b[0m\n",
      "\u001b[34m#metrics {\"StartTime\": 1698784303.3700798, \"EndTime\": 1698784303.3700905, \"Dimensions\": {\"Algorithm\": \"Linear Learner\", \"Host\": \"algo-1\", \"Operation\": \"training\", \"epoch\": 2, \"model\": 21}, \"Metrics\": {\"train_binary_classification_cross_entropy_objective\": {\"sum\": 0.5294467231532506, \"count\": 1, \"min\": 0.5294467231532506, \"max\": 0.5294467231532506}}}\u001b[0m\n",
      "\u001b[34m#metrics {\"StartTime\": 1698784303.3701289, \"EndTime\": 1698784303.3701408, \"Dimensions\": {\"Algorithm\": \"Linear Learner\", \"Host\": \"algo-1\", \"Operation\": \"training\", \"epoch\": 2, \"model\": 22}, \"Metrics\": {\"train_binary_classification_cross_entropy_objective\": {\"sum\": 0.5266960394287109, \"count\": 1, \"min\": 0.5266960394287109, \"max\": 0.5266960394287109}}}\u001b[0m\n",
      "\u001b[34m#metrics {\"StartTime\": 1698784303.3702006, \"EndTime\": 1698784303.3702152, \"Dimensions\": {\"Algorithm\": \"Linear Learner\", \"Host\": \"algo-1\", \"Operation\": \"training\", \"epoch\": 2, \"model\": 23}, \"Metrics\": {\"train_binary_classification_cross_entropy_objective\": {\"sum\": 0.5294488588169642, \"count\": 1, \"min\": 0.5294488588169642, \"max\": 0.5294488588169642}}}\u001b[0m\n",
      "\u001b[34m#metrics {\"StartTime\": 1698784303.3702872, \"EndTime\": 1698784303.3703027, \"Dimensions\": {\"Algorithm\": \"Linear Learner\", \"Host\": \"algo-1\", \"Operation\": \"training\", \"epoch\": 2, \"model\": 24}, \"Metrics\": {\"train_binary_classification_cross_entropy_objective\": {\"sum\": 0.5292374516950334, \"count\": 1, \"min\": 0.5292374516950334, \"max\": 0.5292374516950334}}}\u001b[0m\n",
      "\u001b[34m#metrics {\"StartTime\": 1698784303.3703752, \"EndTime\": 1698784303.37039, \"Dimensions\": {\"Algorithm\": \"Linear Learner\", \"Host\": \"algo-1\", \"Operation\": \"training\", \"epoch\": 2, \"model\": 25}, \"Metrics\": {\"train_binary_classification_cross_entropy_objective\": {\"sum\": 0.5293152253941127, \"count\": 1, \"min\": 0.5293152253941127, \"max\": 0.5293152253941127}}}\u001b[0m\n",
      "\u001b[34m#metrics {\"StartTime\": 1698784303.370461, \"EndTime\": 1698784303.370474, \"Dimensions\": {\"Algorithm\": \"Linear Learner\", \"Host\": \"algo-1\", \"Operation\": \"training\", \"epoch\": 2, \"model\": 26}, \"Metrics\": {\"train_binary_classification_cross_entropy_objective\": {\"sum\": 0.5292370547049386, \"count\": 1, \"min\": 0.5292370547049386, \"max\": 0.5292370547049386}}}\u001b[0m\n",
      "\u001b[34m#metrics {\"StartTime\": 1698784303.3705447, \"EndTime\": 1698784303.370581, \"Dimensions\": {\"Algorithm\": \"Linear Learner\", \"Host\": \"algo-1\", \"Operation\": \"training\", \"epoch\": 2, \"model\": 27}, \"Metrics\": {\"train_binary_classification_cross_entropy_objective\": {\"sum\": 0.5293135957118443, \"count\": 1, \"min\": 0.5293135957118443, \"max\": 0.5293135957118443}}}\u001b[0m\n",
      "\u001b[34m#metrics {\"StartTime\": 1698784303.370631, \"EndTime\": 1698784303.3706791, \"Dimensions\": {\"Algorithm\": \"Linear Learner\", \"Host\": \"algo-1\", \"Operation\": \"training\", \"epoch\": 2, \"model\": 28}, \"Metrics\": {\"train_binary_classification_cross_entropy_objective\": {\"sum\": 0.5295873035975865, \"count\": 1, \"min\": 0.5295873035975865, \"max\": 0.5295873035975865}}}\u001b[0m\n",
      "\u001b[34m#metrics {\"StartTime\": 1698784303.3707745, \"EndTime\": 1698784303.37079, \"Dimensions\": {\"Algorithm\": \"Linear Learner\", \"Host\": \"algo-1\", \"Operation\": \"training\", \"epoch\": 2, \"model\": 29}, \"Metrics\": {\"train_binary_classification_cross_entropy_objective\": {\"sum\": 0.53083024357387, \"count\": 1, \"min\": 0.53083024357387, \"max\": 0.53083024357387}}}\u001b[0m\n",
      "\u001b[34m#metrics {\"StartTime\": 1698784303.370928, \"EndTime\": 1698784303.370948, \"Dimensions\": {\"Algorithm\": \"Linear Learner\", \"Host\": \"algo-1\", \"Operation\": \"training\", \"epoch\": 2, \"model\": 30}, \"Metrics\": {\"train_binary_classification_cross_entropy_objective\": {\"sum\": 0.5295869636753627, \"count\": 1, \"min\": 0.5295869636753627, \"max\": 0.5295869636753627}}}\u001b[0m\n",
      "\u001b[34m#metrics {\"StartTime\": 1698784303.3710473, \"EndTime\": 1698784303.3710632, \"Dimensions\": {\"Algorithm\": \"Linear Learner\", \"Host\": \"algo-1\", \"Operation\": \"training\", \"epoch\": 2, \"model\": 31}, \"Metrics\": {\"train_binary_classification_cross_entropy_objective\": {\"sum\": 0.5308243210710798, \"count\": 1, \"min\": 0.5308243210710798, \"max\": 0.5308243210710798}}}\u001b[0m\n",
      "\u001b[34m[10/31/2023 20:31:43 INFO 139963066464064] #quality_metric: host=algo-1, epoch=2, train binary_classification_cross_entropy_objective <loss>=0.5179798993791853\u001b[0m\n",
      "\u001b[34m#metrics {\"StartTime\": 1698784310.0269496, \"EndTime\": 1698784310.0270083, \"Dimensions\": {\"Algorithm\": \"Linear Learner\", \"Host\": \"algo-1\", \"Operation\": \"training\", \"epoch\": 2, \"model\": 0}, \"Metrics\": {\"validation_binary_classification_cross_entropy_objective\": {\"sum\": 0.5171927760823568, \"count\": 1, \"min\": 0.5171927760823568, \"max\": 0.5171927760823568}}}\u001b[0m\n",
      "\u001b[34m#metrics {\"StartTime\": 1698784310.0270805, \"EndTime\": 1698784310.027093, \"Dimensions\": {\"Algorithm\": \"Linear Learner\", \"Host\": \"algo-1\", \"Operation\": \"training\", \"epoch\": 2, \"model\": 1}, \"Metrics\": {\"validation_binary_classification_cross_entropy_objective\": {\"sum\": 0.5180585884602864, \"count\": 1, \"min\": 0.5180585884602864, \"max\": 0.5180585884602864}}}\u001b[0m\n",
      "\u001b[34m#metrics {\"StartTime\": 1698784310.0271347, \"EndTime\": 1698784310.0271442, \"Dimensions\": {\"Algorithm\": \"Linear Learner\", \"Host\": \"algo-1\", \"Operation\": \"training\", \"epoch\": 2, \"model\": 2}, \"Metrics\": {\"validation_binary_classification_cross_entropy_objective\": {\"sum\": 0.517196517944336, \"count\": 1, \"min\": 0.517196517944336, \"max\": 0.517196517944336}}}\u001b[0m\n",
      "\u001b[34m#metrics {\"StartTime\": 1698784310.0271764, \"EndTime\": 1698784310.0271847, \"Dimensions\": {\"Algorithm\": \"Linear Learner\", \"Host\": \"algo-1\", \"Operation\": \"training\", \"epoch\": 2, \"model\": 3}, \"Metrics\": {\"validation_binary_classification_cross_entropy_objective\": {\"sum\": 0.5180589624023437, \"count\": 1, \"min\": 0.5180589624023437, \"max\": 0.5180589624023437}}}\u001b[0m\n",
      "\u001b[34m#metrics {\"StartTime\": 1698784310.0272167, \"EndTime\": 1698784310.0272245, \"Dimensions\": {\"Algorithm\": \"Linear Learner\", \"Host\": \"algo-1\", \"Operation\": \"training\", \"epoch\": 2, \"model\": 4}, \"Metrics\": {\"validation_binary_classification_cross_entropy_objective\": {\"sum\": 0.5201590759277344, \"count\": 1, \"min\": 0.5201590759277344, \"max\": 0.5201590759277344}}}\u001b[0m\n",
      "\u001b[34m#metrics {\"StartTime\": 1698784310.0272532, \"EndTime\": 1698784310.0272613, \"Dimensions\": {\"Algorithm\": \"Linear Learner\", \"Host\": \"algo-1\", \"Operation\": \"training\", \"epoch\": 2, \"model\": 5}, \"Metrics\": {\"validation_binary_classification_cross_entropy_objective\": {\"sum\": 0.5372330662027994, \"count\": 1, \"min\": 0.5372330662027994, \"max\": 0.5372330662027994}}}\u001b[0m\n",
      "\u001b[34m#metrics {\"StartTime\": 1698784310.0272892, \"EndTime\": 1698784310.027296, \"Dimensions\": {\"Algorithm\": \"Linear Learner\", \"Host\": \"algo-1\", \"Operation\": \"training\", \"epoch\": 2, \"model\": 6}, \"Metrics\": {\"validation_binary_classification_cross_entropy_objective\": {\"sum\": 0.5201584283447266, \"count\": 1, \"min\": 0.5201584283447266, \"max\": 0.5201584283447266}}}\u001b[0m\n",
      "\u001b[34m#metrics {\"StartTime\": 1698784310.0273242, \"EndTime\": 1698784310.0273314, \"Dimensions\": {\"Algorithm\": \"Linear Learner\", \"Host\": \"algo-1\", \"Operation\": \"training\", \"epoch\": 2, \"model\": 7}, \"Metrics\": {\"validation_binary_classification_cross_entropy_objective\": {\"sum\": 0.5372350813802084, \"count\": 1, \"min\": 0.5372350813802084, \"max\": 0.5372350813802084}}}\u001b[0m\n",
      "\u001b[34m#metrics {\"StartTime\": 1698784310.02736, \"EndTime\": 1698784310.027369, \"Dimensions\": {\"Algorithm\": \"Linear Learner\", \"Host\": \"algo-1\", \"Operation\": \"training\", \"epoch\": 2, \"model\": 8}, \"Metrics\": {\"validation_binary_classification_cross_entropy_objective\": {\"sum\": 0.5172750345865885, \"count\": 1, \"min\": 0.5172750345865885, \"max\": 0.5172750345865885}}}\u001b[0m\n",
      "\u001b[34m#metrics {\"StartTime\": 1698784310.0274026, \"EndTime\": 1698784310.027411, \"Dimensions\": {\"Algorithm\": \"Linear Learner\", \"Host\": \"algo-1\", \"Operation\": \"training\", \"epoch\": 2, \"model\": 9}, \"Metrics\": {\"validation_binary_classification_cross_entropy_objective\": {\"sum\": 0.5181356221516927, \"count\": 1, \"min\": 0.5181356221516927, \"max\": 0.5181356221516927}}}\u001b[0m\n",
      "\u001b[34m#metrics {\"StartTime\": 1698784310.0274434, \"EndTime\": 1698784310.0274522, \"Dimensions\": {\"Algorithm\": \"Linear Learner\", \"Host\": \"algo-1\", \"Operation\": \"training\", \"epoch\": 2, \"model\": 10}, \"Metrics\": {\"validation_binary_classification_cross_entropy_objective\": {\"sum\": 0.5172748561604817, \"count\": 1, \"min\": 0.5172748561604817, \"max\": 0.5172748561604817}}}\u001b[0m\n",
      "\u001b[34m#metrics {\"StartTime\": 1698784310.0274847, \"EndTime\": 1698784310.0274944, \"Dimensions\": {\"Algorithm\": \"Linear Learner\", \"Host\": \"algo-1\", \"Operation\": \"training\", \"epoch\": 2, \"model\": 11}, \"Metrics\": {\"validation_binary_classification_cross_entropy_objective\": {\"sum\": 0.5181356860351563, \"count\": 1, \"min\": 0.5181356860351563, \"max\": 0.5181356860351563}}}\u001b[0m\n",
      "\u001b[34m#metrics {\"StartTime\": 1698784310.0275269, \"EndTime\": 1698784310.0275362, \"Dimensions\": {\"Algorithm\": \"Linear Learner\", \"Host\": \"algo-1\", \"Operation\": \"training\", \"epoch\": 2, \"model\": 12}, \"Metrics\": {\"validation_binary_classification_cross_entropy_objective\": {\"sum\": 0.520262973429362, \"count\": 1, \"min\": 0.520262973429362, \"max\": 0.520262973429362}}}\u001b[0m\n",
      "\u001b[34m#metrics {\"StartTime\": 1698784310.027572, \"EndTime\": 1698784310.027582, \"Dimensions\": {\"Algorithm\": \"Linear Learner\", \"Host\": \"algo-1\", \"Operation\": \"training\", \"epoch\": 2, \"model\": 13}, \"Metrics\": {\"validation_binary_classification_cross_entropy_objective\": {\"sum\": 0.5368211873372396, \"count\": 1, \"min\": 0.5368211873372396, \"max\": 0.5368211873372396}}}\u001b[0m\n",
      "\u001b[34m#metrics {\"StartTime\": 1698784310.0276148, \"EndTime\": 1698784310.0276248, \"Dimensions\": {\"Algorithm\": \"Linear Learner\", \"Host\": \"algo-1\", \"Operation\": \"training\", \"epoch\": 2, \"model\": 14}, \"Metrics\": {\"validation_binary_classification_cross_entropy_objective\": {\"sum\": 0.5202637980143229, \"count\": 1, \"min\": 0.5202637980143229, \"max\": 0.5202637980143229}}}\u001b[0m\n",
      "\u001b[34m#metrics {\"StartTime\": 1698784310.027659, \"EndTime\": 1698784310.0276685, \"Dimensions\": {\"Algorithm\": \"Linear Learner\", \"Host\": \"algo-1\", \"Operation\": \"training\", \"epoch\": 2, \"model\": 15}, \"Metrics\": {\"validation_binary_classification_cross_entropy_objective\": {\"sum\": 0.5368158262125651, \"count\": 1, \"min\": 0.5368158262125651, \"max\": 0.5368158262125651}}}\u001b[0m\n",
      "\u001b[34m#metrics {\"StartTime\": 1698784310.0277057, \"EndTime\": 1698784310.0277157, \"Dimensions\": {\"Algorithm\": \"Linear Learner\", \"Host\": \"algo-1\", \"Operation\": \"training\", \"epoch\": 2, \"model\": 16}, \"Metrics\": {\"validation_binary_classification_cross_entropy_objective\": {\"sum\": 0.5248940207926432, \"count\": 1, \"min\": 0.5248940207926432, \"max\": 0.5248940207926432}}}\u001b[0m\n",
      "\u001b[34m#metrics {\"StartTime\": 1698784310.0277522, \"EndTime\": 1698784310.0277622, \"Dimensions\": {\"Algorithm\": \"Linear Learner\", \"Host\": \"algo-1\", \"Operation\": \"training\", \"epoch\": 2, \"model\": 17}, \"Metrics\": {\"validation_binary_classification_cross_entropy_objective\": {\"sum\": 0.5255984545898438, \"count\": 1, \"min\": 0.5255984545898438, \"max\": 0.5255984545898438}}}\u001b[0m\n",
      "\u001b[34m#metrics {\"StartTime\": 1698784310.0277991, \"EndTime\": 1698784310.0278091, \"Dimensions\": {\"Algorithm\": \"Linear Learner\", \"Host\": \"algo-1\", \"Operation\": \"training\", \"epoch\": 2, \"model\": 18}, \"Metrics\": {\"validation_binary_classification_cross_entropy_objective\": {\"sum\": 0.5248942482503255, \"count\": 1, \"min\": 0.5248942482503255, \"max\": 0.5248942482503255}}}\u001b[0m\n",
      "\u001b[34m#metrics {\"StartTime\": 1698784310.027846, \"EndTime\": 1698784310.0278559, \"Dimensions\": {\"Algorithm\": \"Linear Learner\", \"Host\": \"algo-1\", \"Operation\": \"training\", \"epoch\": 2, \"model\": 19}, \"Metrics\": {\"validation_binary_classification_cross_entropy_objective\": {\"sum\": 0.5255992995198567, \"count\": 1, \"min\": 0.5255992995198567, \"max\": 0.5255992995198567}}}\u001b[0m\n",
      "\u001b[34m#metrics {\"StartTime\": 1698784310.0278926, \"EndTime\": 1698784310.0279016, \"Dimensions\": {\"Algorithm\": \"Linear Learner\", \"Host\": \"algo-1\", \"Operation\": \"training\", \"epoch\": 2, \"model\": 20}, \"Metrics\": {\"validation_binary_classification_cross_entropy_objective\": {\"sum\": 0.5263871207682291, \"count\": 1, \"min\": 0.5263871207682291, \"max\": 0.5263871207682291}}}\u001b[0m\n",
      "\u001b[34m#metrics {\"StartTime\": 1698784310.0279386, \"EndTime\": 1698784310.0279489, \"Dimensions\": {\"Algorithm\": \"Linear Learner\", \"Host\": \"algo-1\", \"Operation\": \"training\", \"epoch\": 2, \"model\": 21}, \"Metrics\": {\"validation_binary_classification_cross_entropy_objective\": {\"sum\": 0.5285069673665365, \"count\": 1, \"min\": 0.5285069673665365, \"max\": 0.5285069673665365}}}\u001b[0m\n",
      "\u001b[34m#metrics {\"StartTime\": 1698784310.0279846, \"EndTime\": 1698784310.0279949, \"Dimensions\": {\"Algorithm\": \"Linear Learner\", \"Host\": \"algo-1\", \"Operation\": \"training\", \"epoch\": 2, \"model\": 22}, \"Metrics\": {\"validation_binary_classification_cross_entropy_objective\": {\"sum\": 0.5263862719726562, \"count\": 1, \"min\": 0.5263862719726562, \"max\": 0.5263862719726562}}}\u001b[0m\n",
      "\u001b[34m#metrics {\"StartTime\": 1698784310.02803, \"EndTime\": 1698784310.0280397, \"Dimensions\": {\"Algorithm\": \"Linear Learner\", \"Host\": \"algo-1\", \"Operation\": \"training\", \"epoch\": 2, \"model\": 23}, \"Metrics\": {\"validation_binary_classification_cross_entropy_objective\": {\"sum\": 0.5284993048095703, \"count\": 1, \"min\": 0.5284993048095703, \"max\": 0.5284993048095703}}}\u001b[0m\n",
      "\u001b[34m#metrics {\"StartTime\": 1698784310.0280778, \"EndTime\": 1698784310.0280879, \"Dimensions\": {\"Algorithm\": \"Linear Learner\", \"Host\": \"algo-1\", \"Operation\": \"training\", \"epoch\": 2, \"model\": 24}, \"Metrics\": {\"validation_binary_classification_cross_entropy_objective\": {\"sum\": 0.5281294171142578, \"count\": 1, \"min\": 0.5281294171142578, \"max\": 0.5281294171142578}}}\u001b[0m\n",
      "\u001b[34m#metrics {\"StartTime\": 1698784310.0281248, \"EndTime\": 1698784310.0281355, \"Dimensions\": {\"Algorithm\": \"Linear Learner\", \"Host\": \"algo-1\", \"Operation\": \"training\", \"epoch\": 2, \"model\": 25}, \"Metrics\": {\"validation_binary_classification_cross_entropy_objective\": {\"sum\": 0.5282905340576172, \"count\": 1, \"min\": 0.5282905340576172, \"max\": 0.5282905340576172}}}\u001b[0m\n",
      "\u001b[34m#metrics {\"StartTime\": 1698784310.0281703, \"EndTime\": 1698784310.0281804, \"Dimensions\": {\"Algorithm\": \"Linear Learner\", \"Host\": \"algo-1\", \"Operation\": \"training\", \"epoch\": 2, \"model\": 26}, \"Metrics\": {\"validation_binary_classification_cross_entropy_objective\": {\"sum\": 0.5281437713623047, \"count\": 1, \"min\": 0.5281437713623047, \"max\": 0.5281437713623047}}}\u001b[0m\n",
      "\u001b[34m#metrics {\"StartTime\": 1698784310.0282178, \"EndTime\": 1698784310.0282276, \"Dimensions\": {\"Algorithm\": \"Linear Learner\", \"Host\": \"algo-1\", \"Operation\": \"training\", \"epoch\": 2, \"model\": 27}, \"Metrics\": {\"validation_binary_classification_cross_entropy_objective\": {\"sum\": 0.5283077001953125, \"count\": 1, \"min\": 0.5283077001953125, \"max\": 0.5283077001953125}}}\u001b[0m\n",
      "\u001b[34m#metrics {\"StartTime\": 1698784310.0282629, \"EndTime\": 1698784310.0282726, \"Dimensions\": {\"Algorithm\": \"Linear Learner\", \"Host\": \"algo-1\", \"Operation\": \"training\", \"epoch\": 2, \"model\": 28}, \"Metrics\": {\"validation_binary_classification_cross_entropy_objective\": {\"sum\": 0.5286162078857422, \"count\": 1, \"min\": 0.5286162078857422, \"max\": 0.5286162078857422}}}\u001b[0m\n",
      "\u001b[34m#metrics {\"StartTime\": 1698784310.0283067, \"EndTime\": 1698784310.0283556, \"Dimensions\": {\"Algorithm\": \"Linear Learner\", \"Host\": \"algo-1\", \"Operation\": \"training\", \"epoch\": 2, \"model\": 29}, \"Metrics\": {\"validation_binary_classification_cross_entropy_objective\": {\"sum\": 0.5297113008626302, \"count\": 1, \"min\": 0.5297113008626302, \"max\": 0.5297113008626302}}}\u001b[0m\n",
      "\u001b[34m#metrics {\"StartTime\": 1698784310.0284054, \"EndTime\": 1698784310.0284195, \"Dimensions\": {\"Algorithm\": \"Linear Learner\", \"Host\": \"algo-1\", \"Operation\": \"training\", \"epoch\": 2, \"model\": 30}, \"Metrics\": {\"validation_binary_classification_cross_entropy_objective\": {\"sum\": 0.528601254679362, \"count\": 1, \"min\": 0.528601254679362, \"max\": 0.528601254679362}}}\u001b[0m\n",
      "\u001b[34m#metrics {\"StartTime\": 1698784310.0284579, \"EndTime\": 1698784310.028469, \"Dimensions\": {\"Algorithm\": \"Linear Learner\", \"Host\": \"algo-1\", \"Operation\": \"training\", \"epoch\": 2, \"model\": 31}, \"Metrics\": {\"validation_binary_classification_cross_entropy_objective\": {\"sum\": 0.5298593424479167, \"count\": 1, \"min\": 0.5298593424479167, \"max\": 0.5298593424479167}}}\u001b[0m\n",
      "\u001b[34m[10/31/2023 20:31:50 INFO 139963066464064] #quality_metric: host=algo-1, epoch=2, validation binary_classification_cross_entropy_objective <loss>=0.5171927760823568\u001b[0m\n",
      "\u001b[34m[10/31/2023 20:31:50 INFO 139963066464064] #early_stopping_criteria_metric: host=algo-1, epoch=2, criteria=sampled_accuracy, value=0.7790733333333335\u001b[0m\n",
      "\u001b[34m[10/31/2023 20:31:50 INFO 139963066464064] Epoch 2: Loss improved. Updating best model\u001b[0m\n",
      "\u001b[34m[10/31/2023 20:31:50 INFO 139963066464064] Saving model for epoch: 2\u001b[0m\n",
      "\u001b[34m[10/31/2023 20:31:50 INFO 139963066464064] Saved checkpoint to \"/tmp/tmpxam558qt/mx-mod-0000.params\"\u001b[0m\n",
      "\u001b[34m[10/31/2023 20:31:50 INFO 139963066464064] #progress_metric: host=algo-1, completed 100.0 % of epochs\u001b[0m\n",
      "\u001b[34m#metrics {\"StartTime\": 1698784275.9316845, \"EndTime\": 1698784310.0351043, \"Dimensions\": {\"Algorithm\": \"Linear Learner\", \"Host\": \"algo-1\", \"Operation\": \"training\", \"epoch\": 2, \"Meta\": \"training_data_iter\"}, \"Metrics\": {\"Total Records Seen\": {\"sum\": 2112000.0, \"count\": 1, \"min\": 2112000, \"max\": 2112000}, \"Total Batches Seen\": {\"sum\": 2112.0, \"count\": 1, \"min\": 2112, \"max\": 2112}, \"Max Records Seen Between Resets\": {\"sum\": 700000.0, \"count\": 1, \"min\": 700000, \"max\": 700000}, \"Max Batches Seen Between Resets\": {\"sum\": 700.0, \"count\": 1, \"min\": 700, \"max\": 700}, \"Reset Count\": {\"sum\": 5.0, \"count\": 1, \"min\": 5, \"max\": 5}, \"Number of Records Since Last Reset\": {\"sum\": 700000.0, \"count\": 1, \"min\": 700000, \"max\": 700000}, \"Number of Batches Since Last Reset\": {\"sum\": 700.0, \"count\": 1, \"min\": 700, \"max\": 700}}}\u001b[0m\n",
      "\u001b[34m[10/31/2023 20:31:50 INFO 139963066464064] #throughput_metric: host=algo-1, train throughput=20525.714385426156 records/second\u001b[0m\n",
      "\u001b[34m[10/31/2023 20:31:50 WARNING 139963066464064] wait_for_all_workers will not sync workers since the kv store is not running distributed\u001b[0m\n",
      "\u001b[34m[10/31/2023 20:31:50 WARNING 139963066464064] wait_for_all_workers will not sync workers since the kv store is not running distributed\u001b[0m\n",
      "\n",
      "2023-10-31 20:32:01 Uploading - Uploading generated training model\u001b[34m[10/31/2023 20:31:56 INFO 139963066464064] #early_stopping_criteria_metric: host=algo-1, epoch=2, criteria=sampled_accuracy, value=0.7790733333333335\u001b[0m\n",
      "\u001b[34m[10/31/2023 20:31:56 INFO 139963066464064] Epoch 2: Loss improved. Updating best model\u001b[0m\n",
      "\u001b[34m[10/31/2023 20:31:59 INFO 139963066464064] #validation_score (algo-1) : ('binary_classification_cross_entropy_objective', 0.517196517944336)\u001b[0m\n",
      "\u001b[34m[10/31/2023 20:31:59 INFO 139963066464064] #validation_score (algo-1) : ('binary_classification_accuracy', 0.77906)\u001b[0m\n",
      "\u001b[34m[10/31/2023 20:31:59 INFO 139963066464064] #validation_score (algo-1) : ('binary_f_1.000', 0.0010248681235870383)\u001b[0m\n",
      "\u001b[34m[10/31/2023 20:31:59 INFO 139963066464064] #validation_score (algo-1) : ('precision', 0.7083333333333334)\u001b[0m\n",
      "\u001b[34m[10/31/2023 20:31:59 INFO 139963066464064] #validation_score (algo-1) : ('recall', 0.0005128050435884287)\u001b[0m\n",
      "\u001b[34m[10/31/2023 20:31:59 INFO 139963066464064] #validation_score (algo-1) : ('roc_auc_score', 0.601467025588471)\u001b[0m\n",
      "\u001b[34m[10/31/2023 20:31:59 INFO 139963066464064] #validation_score (algo-1) : ('binary_balanced_accuracy', 0.5)\u001b[0m\n",
      "\u001b[34m[10/31/2023 20:31:59 INFO 139963066464064] #validation_score (algo-1) : ('binary_log_loss', 0.7574447492313789)\u001b[0m\n",
      "\u001b[34m[10/31/2023 20:31:59 INFO 139963066464064] #quality_metric: host=algo-1, validation binary_classification_cross_entropy_objective <loss>=0.517196517944336\u001b[0m\n",
      "\u001b[34m[10/31/2023 20:31:59 INFO 139963066464064] #quality_metric: host=algo-1, validation binary_classification_accuracy <score>=0.77906\u001b[0m\n",
      "\u001b[34m[10/31/2023 20:31:59 INFO 139963066464064] #quality_metric: host=algo-1, validation binary_f_1.000 <score>=0.0010248681235870383\u001b[0m\n",
      "\u001b[34m[10/31/2023 20:31:59 INFO 139963066464064] #quality_metric: host=algo-1, validation precision <score>=0.7083333333333334\u001b[0m\n",
      "\u001b[34m[10/31/2023 20:31:59 INFO 139963066464064] #quality_metric: host=algo-1, validation recall <score>=0.0005128050435884287\u001b[0m\n",
      "\u001b[34m[10/31/2023 20:31:59 INFO 139963066464064] #quality_metric: host=algo-1, validation roc_auc_score <score>=0.601467025588471\u001b[0m\n",
      "\u001b[34m[10/31/2023 20:31:59 INFO 139963066464064] #quality_metric: host=algo-1, validation binary_balanced_accuracy <score>=0.5\u001b[0m\n",
      "\u001b[34m[10/31/2023 20:31:59 INFO 139963066464064] #quality_metric: host=algo-1, validation binary_log_loss <score>=0.7574447492313789\u001b[0m\n",
      "\u001b[34m[10/31/2023 20:31:59 INFO 139963066464064] Best model found for hyperparameters: {\"optimizer\": \"adam\", \"learning_rate\": 0.005, \"wd\": 0.0001, \"l1\": 0.0, \"lr_scheduler_step\": 10, \"lr_scheduler_factor\": 0.99, \"lr_scheduler_minimum_lr\": 0.0001}\u001b[0m\n",
      "\u001b[34m[10/31/2023 20:31:59 INFO 139963066464064] Saved checkpoint to \"/tmp/tmp_oalxbm8/mx-mod-0000.params\"\u001b[0m\n",
      "\u001b[34m[10/31/2023 20:31:59 INFO 139963066464064] Test data is not provided.\u001b[0m\n",
      "\u001b[34m#metrics {\"StartTime\": 1698784204.7659907, \"EndTime\": 1698784319.3103163, \"Dimensions\": {\"Algorithm\": \"Linear Learner\", \"Host\": \"algo-1\", \"Operation\": \"training\"}, \"Metrics\": {\"initialize.time\": {\"sum\": 342.46325492858887, \"count\": 1, \"min\": 342.46325492858887, \"max\": 342.46325492858887}, \"epochs\": {\"sum\": 3.0, \"count\": 1, \"min\": 3, \"max\": 3}, \"check_early_stopping.time\": {\"sum\": 4.090070724487305, \"count\": 4, \"min\": 0.8034706115722656, \"max\": 1.1250972747802734}, \"update.time\": {\"sum\": 104878.92532348633, \"count\": 3, \"min\": 34100.905895233154, \"max\": 35731.027603149414}, \"finalize.time\": {\"sum\": 9269.477128982544, \"count\": 1, \"min\": 9269.477128982544, \"max\": 9269.477128982544}, \"setuptime\": {\"sum\": 3.4439563751220703, \"count\": 1, \"min\": 3.4439563751220703, \"max\": 3.4439563751220703}, \"totaltime\": {\"sum\": 114654.17790412903, \"count\": 1, \"min\": 114654.17790412903, \"max\": 114654.17790412903}}}\u001b[0m\n",
      "\n",
      "2023-10-31 20:32:18 Completed - Training job completed\n",
      "Training seconds: 258\n",
      "Billable seconds: 258\n"
     ]
    }
   ],
   "source": [
    "# Model Configuration and training\n",
    "sm_role = sagemaker.get_execution_role()\n",
    "linear_config = {\n",
    "    'image_uri': linear_container,\n",
    "    'role': sm_role,\n",
    "    'instance_count': 1,\n",
    "    'instance_type': 'ml.m5.large',\n",
    "    'output_path': f's3://{default_bucket}/{data_prefix}/output'\n",
    "}\n",
    "\n",
    "linear_model = Estimator(**linear_config)\n",
    "linear_model.set_hyperparameters(predictor_type='binary_classifier', mini_batch_size=1000, epochs=3)\n",
    "\n",
    "# Data channels\n",
    "channels = {\n",
    "    'train': TrainingInput(train_path, content_type='text/csv'),\n",
    "    'validation': TrainingInput(valid_path, content_type='text/csv')\n",
    "}\n",
    "\n",
    "linear_model.fit(channels)\n"
   ]
  },
  {
   "cell_type": "code",
   "execution_count": 57,
   "metadata": {
    "tags": []
   },
   "outputs": [
    {
     "name": "stderr",
     "output_type": "stream",
     "text": [
      "INFO:sagemaker:Creating model with name: linear-learner-2023-10-31-20-33-16-713\n",
      "INFO:sagemaker:Creating transform job with name: linear-learner-2023-10-31-20-33-17-303\n"
     ]
    },
    {
     "ename": "ResourceLimitExceeded",
     "evalue": "An error occurred (ResourceLimitExceeded) when calling the CreateTransformJob operation: The account-level service limit 'ml.m5.xlarge for transform job usage' is 0 Instances, with current utilization of 0 Instances and a request delta of 1 Instances. Please use AWS Service Quotas to request an increase for this quota. If AWS Service Quotas is not available, contact AWS support to request an increase for this quota.",
     "output_type": "error",
     "traceback": [
      "\u001b[0;31m---------------------------------------------------------------------------\u001b[0m",
      "\u001b[0;31mResourceLimitExceeded\u001b[0m                     Traceback (most recent call last)",
      "Cell \u001b[0;32mIn[57], line 9\u001b[0m\n\u001b[1;32m      7\u001b[0m output_location \u001b[38;5;241m=\u001b[39m \u001b[38;5;124mf\u001b[39m\u001b[38;5;124m'\u001b[39m\u001b[38;5;124ms3://\u001b[39m\u001b[38;5;132;01m{\u001b[39;00mdefault_bucket\u001b[38;5;132;01m}\u001b[39;00m\u001b[38;5;124m/\u001b[39m\u001b[38;5;132;01m{\u001b[39;00mdata_prefix\u001b[38;5;132;01m}\u001b[39;00m\u001b[38;5;124m/batch_output\u001b[39m\u001b[38;5;124m'\u001b[39m\n\u001b[1;32m      8\u001b[0m transformer \u001b[38;5;241m=\u001b[39m linear_model\u001b[38;5;241m.\u001b[39mtransformer(instance_count\u001b[38;5;241m=\u001b[39m\u001b[38;5;241m1\u001b[39m, instance_type\u001b[38;5;241m=\u001b[39m\u001b[38;5;124m'\u001b[39m\u001b[38;5;124mml.m5.xlarge\u001b[39m\u001b[38;5;124m'\u001b[39m, output_path\u001b[38;5;241m=\u001b[39moutput_location)\n\u001b[0;32m----> 9\u001b[0m \u001b[43mtransformer\u001b[49m\u001b[38;5;241;43m.\u001b[39;49m\u001b[43mtransform\u001b[49m\u001b[43m(\u001b[49m\u001b[43mbatch_input_path\u001b[49m\u001b[43m,\u001b[49m\u001b[43m \u001b[49m\u001b[43mcontent_type\u001b[49m\u001b[38;5;241;43m=\u001b[39;49m\u001b[38;5;124;43m'\u001b[39;49m\u001b[38;5;124;43mtext/csv\u001b[39;49m\u001b[38;5;124;43m'\u001b[39;49m\u001b[43m)\u001b[49m\n\u001b[1;32m     10\u001b[0m transformer\u001b[38;5;241m.\u001b[39mwait()\n",
      "File \u001b[0;32m~/anaconda3/envs/python3/lib/python3.10/site-packages/sagemaker/workflow/pipeline_context.py:311\u001b[0m, in \u001b[0;36mrunnable_by_pipeline.<locals>.wrapper\u001b[0;34m(*args, **kwargs)\u001b[0m\n\u001b[1;32m    307\u001b[0m         \u001b[38;5;28;01mreturn\u001b[39;00m context\n\u001b[1;32m    309\u001b[0m     \u001b[38;5;28;01mreturn\u001b[39;00m _StepArguments(retrieve_caller_name(self_instance), run_func, \u001b[38;5;241m*\u001b[39margs, \u001b[38;5;241m*\u001b[39m\u001b[38;5;241m*\u001b[39mkwargs)\n\u001b[0;32m--> 311\u001b[0m \u001b[38;5;28;01mreturn\u001b[39;00m \u001b[43mrun_func\u001b[49m\u001b[43m(\u001b[49m\u001b[38;5;241;43m*\u001b[39;49m\u001b[43margs\u001b[49m\u001b[43m,\u001b[49m\u001b[43m \u001b[49m\u001b[38;5;241;43m*\u001b[39;49m\u001b[38;5;241;43m*\u001b[39;49m\u001b[43mkwargs\u001b[49m\u001b[43m)\u001b[49m\n",
      "File \u001b[0;32m~/anaconda3/envs/python3/lib/python3.10/site-packages/sagemaker/transformer.py:300\u001b[0m, in \u001b[0;36mTransformer.transform\u001b[0;34m(self, data, data_type, content_type, compression_type, split_type, job_name, input_filter, output_filter, join_source, experiment_config, model_client_config, batch_data_capture_config, wait, logs)\u001b[0m\n\u001b[1;32m    290\u001b[0m experiment_config \u001b[38;5;241m=\u001b[39m check_and_get_run_experiment_config(experiment_config)\n\u001b[1;32m    292\u001b[0m batch_data_capture_config \u001b[38;5;241m=\u001b[39m resolve_class_attribute_from_config(\n\u001b[1;32m    293\u001b[0m     \u001b[38;5;28;01mNone\u001b[39;00m,\n\u001b[1;32m    294\u001b[0m     batch_data_capture_config,\n\u001b[0;32m   (...)\u001b[0m\n\u001b[1;32m    297\u001b[0m     sagemaker_session\u001b[38;5;241m=\u001b[39m\u001b[38;5;28mself\u001b[39m\u001b[38;5;241m.\u001b[39msagemaker_session,\n\u001b[1;32m    298\u001b[0m )\n\u001b[0;32m--> 300\u001b[0m \u001b[38;5;28mself\u001b[39m\u001b[38;5;241m.\u001b[39mlatest_transform_job \u001b[38;5;241m=\u001b[39m \u001b[43m_TransformJob\u001b[49m\u001b[38;5;241;43m.\u001b[39;49m\u001b[43mstart_new\u001b[49m\u001b[43m(\u001b[49m\n\u001b[1;32m    301\u001b[0m \u001b[43m    \u001b[49m\u001b[38;5;28;43mself\u001b[39;49m\u001b[43m,\u001b[49m\n\u001b[1;32m    302\u001b[0m \u001b[43m    \u001b[49m\u001b[43mdata\u001b[49m\u001b[43m,\u001b[49m\n\u001b[1;32m    303\u001b[0m \u001b[43m    \u001b[49m\u001b[43mdata_type\u001b[49m\u001b[43m,\u001b[49m\n\u001b[1;32m    304\u001b[0m \u001b[43m    \u001b[49m\u001b[43mcontent_type\u001b[49m\u001b[43m,\u001b[49m\n\u001b[1;32m    305\u001b[0m \u001b[43m    \u001b[49m\u001b[43mcompression_type\u001b[49m\u001b[43m,\u001b[49m\n\u001b[1;32m    306\u001b[0m \u001b[43m    \u001b[49m\u001b[43msplit_type\u001b[49m\u001b[43m,\u001b[49m\n\u001b[1;32m    307\u001b[0m \u001b[43m    \u001b[49m\u001b[43minput_filter\u001b[49m\u001b[43m,\u001b[49m\n\u001b[1;32m    308\u001b[0m \u001b[43m    \u001b[49m\u001b[43moutput_filter\u001b[49m\u001b[43m,\u001b[49m\n\u001b[1;32m    309\u001b[0m \u001b[43m    \u001b[49m\u001b[43mjoin_source\u001b[49m\u001b[43m,\u001b[49m\n\u001b[1;32m    310\u001b[0m \u001b[43m    \u001b[49m\u001b[43mexperiment_config\u001b[49m\u001b[43m,\u001b[49m\n\u001b[1;32m    311\u001b[0m \u001b[43m    \u001b[49m\u001b[43mmodel_client_config\u001b[49m\u001b[43m,\u001b[49m\n\u001b[1;32m    312\u001b[0m \u001b[43m    \u001b[49m\u001b[43mbatch_data_capture_config\u001b[49m\u001b[43m,\u001b[49m\n\u001b[1;32m    313\u001b[0m \u001b[43m\u001b[49m\u001b[43m)\u001b[49m\n\u001b[1;32m    315\u001b[0m \u001b[38;5;28;01mif\u001b[39;00m wait:\n\u001b[1;32m    316\u001b[0m     \u001b[38;5;28mself\u001b[39m\u001b[38;5;241m.\u001b[39mlatest_transform_job\u001b[38;5;241m.\u001b[39mwait(logs\u001b[38;5;241m=\u001b[39mlogs)\n",
      "File \u001b[0;32m~/anaconda3/envs/python3/lib/python3.10/site-packages/sagemaker/transformer.py:633\u001b[0m, in \u001b[0;36m_TransformJob.start_new\u001b[0;34m(cls, transformer, data, data_type, content_type, compression_type, split_type, input_filter, output_filter, join_source, experiment_config, model_client_config, batch_data_capture_config)\u001b[0m\n\u001b[1;32m    616\u001b[0m \u001b[38;5;250m\u001b[39m\u001b[38;5;124;03m\"\"\"Placeholder docstring\"\"\"\u001b[39;00m\n\u001b[1;32m    618\u001b[0m transform_args \u001b[38;5;241m=\u001b[39m \u001b[38;5;28mcls\u001b[39m\u001b[38;5;241m.\u001b[39m_get_transform_args(\n\u001b[1;32m    619\u001b[0m     transformer,\n\u001b[1;32m    620\u001b[0m     data,\n\u001b[0;32m   (...)\u001b[0m\n\u001b[1;32m    630\u001b[0m     batch_data_capture_config,\n\u001b[1;32m    631\u001b[0m )\n\u001b[0;32m--> 633\u001b[0m \u001b[43mtransformer\u001b[49m\u001b[38;5;241;43m.\u001b[39;49m\u001b[43msagemaker_session\u001b[49m\u001b[38;5;241;43m.\u001b[39;49m\u001b[43mtransform\u001b[49m\u001b[43m(\u001b[49m\u001b[38;5;241;43m*\u001b[39;49m\u001b[38;5;241;43m*\u001b[39;49m\u001b[43mtransform_args\u001b[49m\u001b[43m)\u001b[49m\n\u001b[1;32m    635\u001b[0m \u001b[38;5;28;01mreturn\u001b[39;00m \u001b[38;5;28mcls\u001b[39m(transformer\u001b[38;5;241m.\u001b[39msagemaker_session, transformer\u001b[38;5;241m.\u001b[39m_current_job_name)\n",
      "File \u001b[0;32m~/anaconda3/envs/python3/lib/python3.10/site-packages/sagemaker/session.py:3453\u001b[0m, in \u001b[0;36mSession.transform\u001b[0;34m(self, job_name, model_name, strategy, max_concurrent_transforms, max_payload, input_config, output_config, resource_config, experiment_config, env, tags, data_processing, model_client_config, batch_data_capture_config)\u001b[0m\n\u001b[1;32m   3450\u001b[0m     LOGGER\u001b[38;5;241m.\u001b[39mdebug(\u001b[38;5;124m\"\u001b[39m\u001b[38;5;124mTransform request: \u001b[39m\u001b[38;5;132;01m%s\u001b[39;00m\u001b[38;5;124m\"\u001b[39m, json\u001b[38;5;241m.\u001b[39mdumps(request, indent\u001b[38;5;241m=\u001b[39m\u001b[38;5;241m4\u001b[39m))\n\u001b[1;32m   3451\u001b[0m     \u001b[38;5;28mself\u001b[39m\u001b[38;5;241m.\u001b[39msagemaker_client\u001b[38;5;241m.\u001b[39mcreate_transform_job(\u001b[38;5;241m*\u001b[39m\u001b[38;5;241m*\u001b[39mrequest)\n\u001b[0;32m-> 3453\u001b[0m \u001b[38;5;28;43mself\u001b[39;49m\u001b[38;5;241;43m.\u001b[39;49m\u001b[43m_intercept_create_request\u001b[49m\u001b[43m(\u001b[49m\u001b[43mtransform_request\u001b[49m\u001b[43m,\u001b[49m\u001b[43m \u001b[49m\u001b[43msubmit\u001b[49m\u001b[43m,\u001b[49m\u001b[43m \u001b[49m\u001b[38;5;28;43mself\u001b[39;49m\u001b[38;5;241;43m.\u001b[39;49m\u001b[43mtransform\u001b[49m\u001b[38;5;241;43m.\u001b[39;49m\u001b[38;5;18;43m__name__\u001b[39;49m\u001b[43m)\u001b[49m\n",
      "File \u001b[0;32m~/anaconda3/envs/python3/lib/python3.10/site-packages/sagemaker/session.py:5581\u001b[0m, in \u001b[0;36mSession._intercept_create_request\u001b[0;34m(self, request, create, func_name)\u001b[0m\n\u001b[1;32m   5564\u001b[0m \u001b[38;5;28;01mdef\u001b[39;00m \u001b[38;5;21m_intercept_create_request\u001b[39m(\n\u001b[1;32m   5565\u001b[0m     \u001b[38;5;28mself\u001b[39m,\n\u001b[1;32m   5566\u001b[0m     request: typing\u001b[38;5;241m.\u001b[39mDict,\n\u001b[0;32m   (...)\u001b[0m\n\u001b[1;32m   5569\u001b[0m     \u001b[38;5;66;03m# pylint: disable=unused-argument\u001b[39;00m\n\u001b[1;32m   5570\u001b[0m ):\n\u001b[1;32m   5571\u001b[0m \u001b[38;5;250m    \u001b[39m\u001b[38;5;124;03m\"\"\"This function intercepts the create job request.\u001b[39;00m\n\u001b[1;32m   5572\u001b[0m \n\u001b[1;32m   5573\u001b[0m \u001b[38;5;124;03m    PipelineSession inherits this Session class and will override\u001b[39;00m\n\u001b[0;32m   (...)\u001b[0m\n\u001b[1;32m   5579\u001b[0m \u001b[38;5;124;03m        func_name (str): the name of the function needed intercepting\u001b[39;00m\n\u001b[1;32m   5580\u001b[0m \u001b[38;5;124;03m    \"\"\"\u001b[39;00m\n\u001b[0;32m-> 5581\u001b[0m     \u001b[38;5;28;01mreturn\u001b[39;00m \u001b[43mcreate\u001b[49m\u001b[43m(\u001b[49m\u001b[43mrequest\u001b[49m\u001b[43m)\u001b[49m\n",
      "File \u001b[0;32m~/anaconda3/envs/python3/lib/python3.10/site-packages/sagemaker/session.py:3451\u001b[0m, in \u001b[0;36mSession.transform.<locals>.submit\u001b[0;34m(request)\u001b[0m\n\u001b[1;32m   3449\u001b[0m LOGGER\u001b[38;5;241m.\u001b[39minfo(\u001b[38;5;124m\"\u001b[39m\u001b[38;5;124mCreating transform job with name: \u001b[39m\u001b[38;5;132;01m%s\u001b[39;00m\u001b[38;5;124m\"\u001b[39m, job_name)\n\u001b[1;32m   3450\u001b[0m LOGGER\u001b[38;5;241m.\u001b[39mdebug(\u001b[38;5;124m\"\u001b[39m\u001b[38;5;124mTransform request: \u001b[39m\u001b[38;5;132;01m%s\u001b[39;00m\u001b[38;5;124m\"\u001b[39m, json\u001b[38;5;241m.\u001b[39mdumps(request, indent\u001b[38;5;241m=\u001b[39m\u001b[38;5;241m4\u001b[39m))\n\u001b[0;32m-> 3451\u001b[0m \u001b[38;5;28;43mself\u001b[39;49m\u001b[38;5;241;43m.\u001b[39;49m\u001b[43msagemaker_client\u001b[49m\u001b[38;5;241;43m.\u001b[39;49m\u001b[43mcreate_transform_job\u001b[49m\u001b[43m(\u001b[49m\u001b[38;5;241;43m*\u001b[39;49m\u001b[38;5;241;43m*\u001b[39;49m\u001b[43mrequest\u001b[49m\u001b[43m)\u001b[49m\n",
      "File \u001b[0;32m~/anaconda3/envs/python3/lib/python3.10/site-packages/botocore/client.py:535\u001b[0m, in \u001b[0;36mClientCreator._create_api_method.<locals>._api_call\u001b[0;34m(self, *args, **kwargs)\u001b[0m\n\u001b[1;32m    531\u001b[0m     \u001b[38;5;28;01mraise\u001b[39;00m \u001b[38;5;167;01mTypeError\u001b[39;00m(\n\u001b[1;32m    532\u001b[0m         \u001b[38;5;124mf\u001b[39m\u001b[38;5;124m\"\u001b[39m\u001b[38;5;132;01m{\u001b[39;00mpy_operation_name\u001b[38;5;132;01m}\u001b[39;00m\u001b[38;5;124m() only accepts keyword arguments.\u001b[39m\u001b[38;5;124m\"\u001b[39m\n\u001b[1;32m    533\u001b[0m     )\n\u001b[1;32m    534\u001b[0m \u001b[38;5;66;03m# The \"self\" in this scope is referring to the BaseClient.\u001b[39;00m\n\u001b[0;32m--> 535\u001b[0m \u001b[38;5;28;01mreturn\u001b[39;00m \u001b[38;5;28;43mself\u001b[39;49m\u001b[38;5;241;43m.\u001b[39;49m\u001b[43m_make_api_call\u001b[49m\u001b[43m(\u001b[49m\u001b[43moperation_name\u001b[49m\u001b[43m,\u001b[49m\u001b[43m \u001b[49m\u001b[43mkwargs\u001b[49m\u001b[43m)\u001b[49m\n",
      "File \u001b[0;32m~/anaconda3/envs/python3/lib/python3.10/site-packages/botocore/client.py:980\u001b[0m, in \u001b[0;36mBaseClient._make_api_call\u001b[0;34m(self, operation_name, api_params)\u001b[0m\n\u001b[1;32m    978\u001b[0m     error_code \u001b[38;5;241m=\u001b[39m parsed_response\u001b[38;5;241m.\u001b[39mget(\u001b[38;5;124m\"\u001b[39m\u001b[38;5;124mError\u001b[39m\u001b[38;5;124m\"\u001b[39m, {})\u001b[38;5;241m.\u001b[39mget(\u001b[38;5;124m\"\u001b[39m\u001b[38;5;124mCode\u001b[39m\u001b[38;5;124m\"\u001b[39m)\n\u001b[1;32m    979\u001b[0m     error_class \u001b[38;5;241m=\u001b[39m \u001b[38;5;28mself\u001b[39m\u001b[38;5;241m.\u001b[39mexceptions\u001b[38;5;241m.\u001b[39mfrom_code(error_code)\n\u001b[0;32m--> 980\u001b[0m     \u001b[38;5;28;01mraise\u001b[39;00m error_class(parsed_response, operation_name)\n\u001b[1;32m    981\u001b[0m \u001b[38;5;28;01melse\u001b[39;00m:\n\u001b[1;32m    982\u001b[0m     \u001b[38;5;28;01mreturn\u001b[39;00m parsed_response\n",
      "\u001b[0;31mResourceLimitExceeded\u001b[0m: An error occurred (ResourceLimitExceeded) when calling the CreateTransformJob operation: The account-level service limit 'ml.m5.xlarge for transform job usage' is 0 Instances, with current utilization of 0 Instances and a request delta of 1 Instances. Please use AWS Service Quotas to request an increase for this quota. If AWS Service Quotas is not available, contact AWS support to request an increase for this quota."
     ]
    }
   ],
   "source": [
    "# Prepare test data for batch transform\n",
    "batch_input = testing_dataset.drop(columns=['target'])  \n",
    "batch_input.to_csv('batch_input.csv', index=False, header=False)\n",
    "batch_input_path = session.upload_data('batch_input.csv', key_prefix=f\"{data_prefix}/batch_input\")\n",
    "\n",
    "# Batch transform settings and execution\n",
    "output_location = f's3://{default_bucket}/{data_prefix}/batch_output'\n",
    "transformer = linear_model.transformer(instance_count=1, instance_type='ml.m5.xlarge', output_path=output_location)\n",
    "transformer.transform(batch_input_path, content_type='text/csv')\n",
    "transformer.wait()\n"
   ]
  },
  {
   "cell_type": "code",
   "execution_count": null,
   "metadata": {
    "tags": []
   },
   "outputs": [],
   "source": [
    "# Fetch results from S3\n",
    "s3_client = boto3.client('s3')\n",
    "result_file = s3_client.get_object(Bucket=default_bucket, Key=f\"{data_prefix}/batch_output/batch_input.csv.out\")\n",
    "predicted_data = pd.read_csv(io.BytesIO(result_file['Body'].read()), header=None, names=['Predicted'])\n",
    "print(predicted_data.head())\n"
   ]
  },
  {
   "cell_type": "code",
   "execution_count": null,
   "metadata": {},
   "outputs": [],
   "source": [
    "import matplotlib.pyplot as plt\n",
    "import seaborn as sns\n",
    "\n",
    "from sklearn.metrics import confusion_matrix\n",
    "test_labels = testing_dataset.loc[:, 'target'].values\n",
    "\n",
    "# Function for plotting confusion matrx\n",
    "def plot_confusion_matrix(test_labels, predicted_data, title='Confusion Matrix for 1st csv'):\n",
    "    conf_matrix = confusion_matrix(test_labels, target_predicted)\n",
    "    plt.figure(figsize=(6, 6))\n",
    "    sns.heatmap(conf_matrix, annot=True, fmt='g', cmap='Oranges', \n",
    "                xticklabels=['No Delay', 'Delay'], \n",
    "                yticklabels=['No Delay', 'Delay'])\n",
    "    plt.xlabel('Predicted')\n",
    "    plt.ylabel('Actual')\n",
    "    plt.title(title)\n",
    "    plt.show()\n",
    "    "
   ]
  },
  {
   "cell_type": "code",
   "execution_count": null,
   "metadata": {},
   "outputs": [],
   "source": [
    "from sklearn.metrics import classification_report\n",
    "print(classification_report(test_labels, predicted_data))\n"
   ]
  },
  {
   "cell_type": "markdown",
   "metadata": {},
   "source": [
    "## CSV 2"
   ]
  },
  {
   "cell_type": "code",
   "execution_count": null,
   "metadata": {},
   "outputs": [],
   "source": [
    "dataset = pd.read_csv('combined_csv_v2.csv', nrows=1000000)\n",
    "dataset.head()"
   ]
  },
  {
   "cell_type": "code",
   "execution_count": null,
   "metadata": {},
   "outputs": [],
   "source": [
    "# Split the data into 70% train, 15% validation, and 15% test\n",
    "train_frac = 0.70\n",
    "val_frac = 0.15 / (1 - train_frac)  # Calculate fraction of remaining data\n",
    "\n",
    "# Splitting the datasets\n",
    "training_dataset = data.sample(frac=train_frac, random_state=59)\n",
    "remaining_dataset = data.loc[~data.index.isin(training_dataset.index), :]\n",
    "\n",
    "validation_dataset = remaining_dataset.sample(frac=val_frac, random_state=59)\n",
    "testing_dataset = remaining_dataset.loc[~remaining_dataset.index.isin(validation_dataset.index), :]"
   ]
  },
  {
   "cell_type": "code",
   "execution_count": null,
   "metadata": {},
   "outputs": [],
   "source": [
    "print(data.shape)\n",
    "print(training_dataset.shape)\n",
    "print(validation_dataset.shape)\n",
    "print(testing_dataset.shape)"
   ]
  },
  {
   "cell_type": "code",
   "execution_count": null,
   "metadata": {},
   "outputs": [],
   "source": [
    "# Intitialising sagemaker\n",
    "# SageMaker session and default S3 bucket\n",
    "session = sagemaker.Session()\n",
    "default_bucket = session.default_bucket()\n",
    "data_prefix = 'model-data'\n",
    "\n",
    "# Define AWS region and container for Linear Learner\n",
    "aws_region = boto3.Session().region_name\n",
    "linear_container = get_image_uri(aws_region, 'linear-learner')\n"
   ]
  },
  {
   "cell_type": "code",
   "execution_count": null,
   "metadata": {},
   "outputs": [],
   "source": [
    "# Pre-processing and uloading to S3\n",
    "# Splitting and saving data\n",
    "def process_and_upload_data(dataframe, file_name, s3_prefix):\n",
    "    dataframe.to_csv(file_name, header=False, index=False)\n",
    "    return session.upload_data(file_name, key_prefix=s3_prefix)\n",
    "\n",
    "train_path = process_and_upload_data(training_dataset, 'training_data.csv', f\"{data_prefix}/train\")\n",
    "valid_path = process_and_upload_data(validation_dataset, 'validation_data.csv', f\"{data_prefix}/valid\")\n",
    "test_path = process_and_upload_data(testing_dataset, 'testing_data.csv', f\"{data_prefix}/test\")\n"
   ]
  },
  {
   "cell_type": "code",
   "execution_count": null,
   "metadata": {},
   "outputs": [],
   "source": [
    "# Model Configuration and training\n",
    "sm_role = sagemaker.get_execution_role()\n",
    "linear_config = {\n",
    "    'image_uri': linear_container,\n",
    "    'role': sm_role,\n",
    "    'instance_count': 1,\n",
    "    'instance_type': 'ml.m5.large',\n",
    "    'output_path': f's3://{default_bucket}/{data_prefix}/output'\n",
    "}\n",
    "\n",
    "linear_model = Estimator(**linear_config)\n",
    "linear_model.set_hyperparameters(predictor_type='binary_classifier', mini_batch_size=1000, epochs=3)\n",
    "\n",
    "# Data channels\n",
    "channels = {\n",
    "    'train': TrainingInput(train_path, content_type='text/csv'),\n",
    "    'validation': TrainingInput(valid_path, content_type='text/csv')\n",
    "}\n",
    "\n",
    "linear_model.fit(channels)\n"
   ]
  },
  {
   "cell_type": "code",
   "execution_count": null,
   "metadata": {},
   "outputs": [],
   "source": [
    "# Prepare test data for batch transform\n",
    "batch_input = testing_dataset.drop(columns=['target'])  \n",
    "batch_input.to_csv('batch_input.csv', index=False, header=False)\n",
    "batch_input_path = session.upload_data('batch_input.csv', key_prefix=f\"{data_prefix}/batch_input\")\n",
    "\n",
    "# Batch transform settings and execution\n",
    "output_location = f's3://{default_bucket}/{data_prefix}/batch_output'\n",
    "transformer = linear_model.transformer(instance_count=1, instance_type='ml.m5.xlarge', output_path=output_location)\n",
    "transformer.transform(batch_input_path, content_type='text/csv')\n",
    "transformer.wait()\n"
   ]
  },
  {
   "cell_type": "code",
   "execution_count": null,
   "metadata": {},
   "outputs": [],
   "source": [
    "# Fetch results from S3\n",
    "s3_client = boto3.client('s3')\n",
    "result_file = s3_client.get_object(Bucket=default_bucket, Key=f\"{data_prefix}/batch_output/batch_input.csv.out\")\n",
    "predicted_data = pd.read_csv(io.BytesIO(result_file['Body'].read()), header=None, names=['Predicted'])\n",
    "print(predicted_data.head())\n"
   ]
  },
  {
   "cell_type": "code",
   "execution_count": null,
   "metadata": {},
   "outputs": [],
   "source": [
    "import matplotlib.pyplot as plt\n",
    "import seaborn as sns\n",
    "\n",
    "from sklearn.metrics import confusion_matrix\n",
    "test_labels = testing_dataset.loc[:, 'target'].values\n",
    "\n",
    "# Function for plotting confusion matrx\n",
    "def plot_confusion_matrix(test_labels, predicted_data, title='Confusion Matrix for 1st csv'):\n",
    "    conf_matrix = confusion_matrix(test_labels, target_predicted)\n",
    "    plt.figure(figsize=(6, 6))\n",
    "    sns.heatmap(conf_matrix, annot=True, fmt='g', cmap='Oranges', \n",
    "                xticklabels=['No Delay', 'Delay'], \n",
    "                yticklabels=['No Delay', 'Delay'])\n",
    "    plt.xlabel('Predicted')\n",
    "    plt.ylabel('Actual')\n",
    "    plt.title(title)\n",
    "    plt.show()"
   ]
  },
  {
   "cell_type": "code",
   "execution_count": null,
   "metadata": {},
   "outputs": [],
   "source": [
    "from sklearn.metrics import classification_report\n",
    "print(classification_report(test_labels, predicted_data))"
   ]
  },
  {
   "cell_type": "markdown",
   "metadata": {},
   "source": [
    "# Step 3: Build and evaluate ensembe models\n",
    "\n",
    "Write code to perform the follwoing steps:\n",
    "1. Split data into training, validation and testing sets (70% - 15% - 15%).\n",
    "2. Use xgboost estimator to build a classifcation model.\n",
    "3. Host the model on another instance\n",
    "4. Perform batch transform to evaluate the model on testing data\n",
    "5. Report the performance metrics that you see better test the model performance \n",
    "6. write down your observation on the difference between the performance of using the simple and ensemble models.\n",
    "Note: You are required to perform the above steps on the two combined datasets separatey."
   ]
  },
  {
   "cell_type": "markdown",
   "metadata": {},
   "source": [
    "## CSV 1 - XGB\n"
   ]
  },
  {
   "cell_type": "code",
   "execution_count": null,
   "metadata": {},
   "outputs": [],
   "source": [
    "dataset = pd.read_csv('combined_csv_v1.csv', nrows=1000000)"
   ]
  },
  {
   "cell_type": "code",
   "execution_count": null,
   "metadata": {},
   "outputs": [],
   "source": [
    "import sagemaker\n",
    "import boto3\n",
    "from sagemaker.inputs import TrainingInput\n",
    "from sagemaker.xgboost.estimator import XGBoost\n",
    "import pandas as pd\n",
    "from sklearn.model_selection import train_test_split\n",
    "import io\n",
    "\n",
    "# SageMaker session and default S3 bucket\n",
    "session = sagemaker.Session()\n",
    "default_bucket = session.default_bucket()\n",
    "data_prefix = 'ensemble-model-data'\n",
    "\n",
    "# Define AWS region and XGBoost container\n",
    "aws_region = boto3.Session().region_name\n",
    "xgboost_container = sagemaker.image_uris.retrieve(\"xgboost\", aws_region, \"latest\")\n"
   ]
  },
  {
   "cell_type": "code",
   "execution_count": null,
   "metadata": {},
   "outputs": [],
   "source": [
    "# Data preprocessing \n",
    "def split_and_upload_dataset(dataset, prefix):\n",
    "    # Split dataset\n",
    "    train_df, temp_df = train_test_split(dataset, test_size=0.30, random_state=0)\n",
    "    valid_df, test_df = train_test_split(temp_df, test_size=0.5, random_state=0)\n",
    "    \n",
    "    # Save and upload to S3\n",
    "    train_path = process_and_upload_data(train_df, 'train.csv', f\"{prefix}/train\")\n",
    "    valid_path = process_and_upload_data(valid_df, 'valid.csv', f\"{prefix}/valid\")\n",
    "    test_path = process_and_upload_data(test_df, 'test.csv', f\"{prefix}/test\")\n",
    "    \n",
    "    return train_path, valid_path, test_path\n",
    "\n",
    "def process_and_upload_data(dataframe, file_name, s3_prefix):\n",
    "    dataframe.to_csv(file_name, header=False, index=False)\n",
    "    return session.upload_data(file_name, key_prefix=s3_prefix)\n",
    "\n",
    "# Assuming you've loaded your two combined datasets into variables named 'dataset1' and 'dataset2'\n",
    "train1_path, valid1_path, test1_path = split_and_upload_dataset(dataset1, f\"{data_prefix}/dataset1\")\n",
    "train2_path, valid2_path, test2_path = split_and_upload_dataset(dataset2, f\"{data_prefix}/dataset2\")\n"
   ]
  },
  {
   "cell_type": "code",
   "execution_count": null,
   "metadata": {},
   "outputs": [],
   "source": [
    "def train_and_transform(data_paths, data_prefix):\n",
    "    # Configure XGBoost Estimator\n",
    "    xgb = XGBoost(\n",
    "        entry_point=\"your_entry_point_script.py\",\n",
    "        framework_version=\"1.0-1\",\n",
    "        container=xgboost_container,\n",
    "        role=sagemaker.get_execution_role(),\n",
    "        instance_count=1,\n",
    "        instance_type='ml.m5.xlarge',\n",
    "        output_path=f's3://{default_bucket}/{data_prefix}/output'\n",
    "    )\n",
    "    \n",
    "    # Train model\n",
    "    data_channels = {\n",
    "        'train': TrainingInput(data_paths[0], content_type='csv'),\n",
    "        'validation': TrainingInput(data_paths[1], content_type='csv')\n",
    "    }\n",
    "    xgb.fit(data_channels)\n",
    "    \n",
    "    # Batch transform\n",
    "    transformer = xgb.transformer(instance_count=1, instance_type='ml.m5.large')\n",
    "    transformer.transform(data_paths[2], content_type='text/csv', split_type='Line')\n",
    "    transformer.wait()\n",
    "\n",
    "# Train and transform for both datasets\n",
    "train_and_transform([train1_path, valid1_path, test1_path], f\"{data_prefix}/dataset1\")\n",
    "train_and_transform([train2_path, valid2_path, test2_path], f\"{data_prefix}/dataset2\")\n"
   ]
  },
  {
   "cell_type": "code",
   "execution_count": null,
   "metadata": {},
   "outputs": [],
   "source": [
    "# Fbunction to retrieve batch transform results from S3\n",
    "def get_batch_transform_results(bucket, batch_output_path):\n",
    "    s3_client = boto3.client('s3')\n",
    "    \n",
    "    # Get the file from the S3 bucket\n",
    "    s3_response_object = s3_client.get_object(Bucket=bucket, Key=batch_output_path + 'batch-in.csv.out')\n",
    "    object_content = s3_response_object['Body'].read().decode('utf-8')\n",
    "    \n",
    "    # Convert the string content to a DataFrame\n",
    "    results_df = pd.read_csv(io.StringIO(object_content), header=None)\n",
    "    \n",
    "    return results_df\n",
    "\n",
    "# Get results for the XGBoost batch transform\n",
    "xgb_results = get_batch_transform_results(default_bucket, f\"{data_prefix}/dataset1/batch-out/\")\n",
    "\n",
    "# Display the first few rows of the results\n",
    "print(xgb_results.head())\n"
   ]
  },
  {
   "cell_type": "code",
   "execution_count": null,
   "metadata": {},
   "outputs": [],
   "source": [
    "true_labels = testing_dataset.iloc[:, 0].values  \n",
    "\n",
    "# Generate the classification report\n",
    "report = classification_report(true_labels, xgb_results.values)\n",
    "\n",
    "print(report)"
   ]
  },
  {
   "cell_type": "markdown",
   "metadata": {},
   "source": [
    "## CSV 2 -xgb"
   ]
  },
  {
   "cell_type": "code",
   "execution_count": null,
   "metadata": {},
   "outputs": [],
   "source": [
    "dataset= pd.read_csv(('combined_csv_v2.csv', nrows=1000000)"
   ]
  },
  {
   "cell_type": "code",
   "execution_count": null,
   "metadata": {},
   "outputs": [],
   "source": [
    "import sagemaker\n",
    "import boto3\n",
    "from sagemaker.inputs import TrainingInput\n",
    "from sagemaker.xgboost.estimator import XGBoost\n",
    "import pandas as pd\n",
    "from sklearn.model_selection import train_test_split\n",
    "import io\n",
    "\n",
    "# SageMaker session and default S3 bucket\n",
    "session = sagemaker.Session()\n",
    "default_bucket = session.default_bucket()\n",
    "data_prefix = 'ensemble-model-data'\n",
    "\n",
    "# Define AWS region and XGBoost container\n",
    "aws_region = boto3.Session().region_name\n",
    "xgboost_container = sagemaker.image_uris.retrieve(\"xgboost\", aws_region, \"latest\")\n"
   ]
  },
  {
   "cell_type": "code",
   "execution_count": null,
   "metadata": {},
   "outputs": [],
   "source": [
    "# Data preprocessing \n",
    "def split_and_upload_dataset(dataset, prefix):\n",
    "    # Split dataset\n",
    "    train_df, temp_df = train_test_split(dataset, test_size=0.30, random_state=0)\n",
    "    valid_df, test_df = train_test_split(temp_df, test_size=0.5, random_state=0)\n",
    "    \n",
    "    # Save and upload to S3\n",
    "    train_path = process_and_upload_data(train_df, 'train.csv', f\"{prefix}/train\")\n",
    "    valid_path = process_and_upload_data(valid_df, 'valid.csv', f\"{prefix}/valid\")\n",
    "    test_path = process_and_upload_data(test_df, 'test.csv', f\"{prefix}/test\")\n",
    "    \n",
    "    return train_path, valid_path, test_path\n",
    "\n",
    "def process_and_upload_data(dataframe, file_name, s3_prefix):\n",
    "    dataframe.to_csv(file_name, header=False, index=False)\n",
    "    return session.upload_data(file_name, key_prefix=s3_prefix)\n",
    "\n",
    "# Assuming you've loaded your two combined datasets into variables named 'dataset1' and 'dataset2'\n",
    "train1_path, valid1_path, test1_path = split_and_upload_dataset(dataset1, f\"{data_prefix}/dataset1\")\n",
    "train2_path, valid2_path, test2_path = split_and_upload_dataset(dataset2, f\"{data_prefix}/dataset2\")\n"
   ]
  },
  {
   "cell_type": "code",
   "execution_count": null,
   "metadata": {},
   "outputs": [],
   "source": [
    "def train_and_transform(data_paths, data_prefix):\n",
    "    # Configure XGBoost Estimator\n",
    "    xgb = XGBoost(\n",
    "        entry_point=\"your_entry_point_script.py\",\n",
    "        framework_version=\"1.0-1\",\n",
    "        container=xgboost_container,\n",
    "        role=sagemaker.get_execution_role(),\n",
    "        instance_count=1,\n",
    "        instance_type='ml.m5.xlarge',\n",
    "        output_path=f's3://{default_bucket}/{data_prefix}/output'\n",
    "    )\n",
    "    \n",
    "    # Train model\n",
    "    data_channels = {\n",
    "        'train': TrainingInput(data_paths[0], content_type='csv'),\n",
    "        'validation': TrainingInput(data_paths[1], content_type='csv')\n",
    "    }\n",
    "    xgb.fit(data_channels)\n",
    "    \n",
    "    # Batch transform\n",
    "    transformer = xgb.transformer(instance_count=1, instance_type='ml.m5.large')\n",
    "    transformer.transform(data_paths[2], content_type='text/csv', split_type='Line')\n",
    "    transformer.wait()\n",
    "\n",
    "# Train and transform for both datasets\n",
    "train_and_transform([train1_path, valid1_path, test1_path], f\"{data_prefix}/dataset1\")\n",
    "train_and_transform([train2_path, valid2_path, test2_path], f\"{data_prefix}/dataset2\")\n"
   ]
  },
  {
   "cell_type": "code",
   "execution_count": null,
   "metadata": {},
   "outputs": [],
   "source": [
    "# Fbunction to retrieve batch transform results from S3\n",
    "def get_batch_transform_results(bucket, batch_output_path):\n",
    "    s3_client = boto3.client('s3')\n",
    "    \n",
    "    # Get the file from the S3 bucket\n",
    "    s3_response_object = s3_client.get_object(Bucket=bucket, Key=batch_output_path + 'batch-in.csv.out')\n",
    "    object_content = s3_response_object['Body'].read().decode('utf-8')\n",
    "    \n",
    "    # Convert the string content to a DataFrame\n",
    "    results_df = pd.read_csv(io.StringIO(object_content), header=None)\n",
    "    \n",
    "    return results_df\n",
    "\n",
    "# Get results for the XGBoost batch transform\n",
    "xgb_results = get_batch_transform_results(default_bucket, f\"{data_prefix}/dataset1/batch-out/\")\n",
    "\n",
    "# Display the first few rows of the results\n",
    "print(xgb_results.head())\n"
   ]
  },
  {
   "cell_type": "code",
   "execution_count": null,
   "metadata": {},
   "outputs": [],
   "source": [
    "true_labels = testing_dataset.iloc[:, 0].values  \n",
    "\n",
    "# Generate the classification report\n",
    "report = classification_report(true_labels, xgb_results.values)\n",
    "\n",
    "print(report)"
   ]
  },
  {
   "cell_type": "code",
   "execution_count": null,
   "metadata": {
    "tags": []
   },
   "outputs": [],
   "source": [
    "# Write the final comments here and turn the cell type into markdown"
   ]
  }
 ],
 "metadata": {
  "kernelspec": {
   "display_name": "Python 3 (ipykernel)",
   "language": "python",
   "name": "python3"
  },
  "language_info": {
   "codemirror_mode": {
    "name": "ipython",
    "version": 3
   },
   "file_extension": ".py",
   "mimetype": "text/x-python",
   "name": "python",
   "nbconvert_exporter": "python",
   "pygments_lexer": "ipython3",
   "version": "3.11.4"
  }
 },
 "nbformat": 4,
 "nbformat_minor": 4
}
